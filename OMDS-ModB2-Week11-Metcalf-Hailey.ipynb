{
 "cells": [
  {
   "cell_type": "markdown",
   "id": "bb21f458-c2b3-44f2-be7d-67e95bbbc4f8",
   "metadata": {},
   "source": [
    "# Week 1 Jupyter Notebook – Linear Regression 1\n"
   ]
  },
  {
   "cell_type": "code",
   "execution_count": 75,
   "id": "5602bd5e-4123-454e-9aeb-94857918d6a6",
   "metadata": {},
   "outputs": [],
   "source": [
    "import pandas as pd\n",
    "import numpy as np\n",
    "from sklearn.preprocessing import PolynomialFeatures\n",
    "from sklearn.preprocessing import StandardScaler\n",
    "from sklearn.preprocessing import OneHotEncoder\n",
    "from sklearn.linear_model import LinearRegression\n",
    "from sklearn.model_selection import cross_val_score\n",
    "import numpy as np\n",
    "from sklearn.model_selection import RepeatedKFold\n",
    "from sklearn.model_selection import train_test_split\n",
    "from sklearn.metrics import mean_squared_error, r2_score\n"
   ]
  },
  {
   "cell_type": "code",
   "execution_count": 76,
   "id": "451137c6",
   "metadata": {},
   "outputs": [
    {
     "data": {
      "text/plain": [
       "Index(['Season_Year', 'GameKey', 'PlayID', 'GSISID', 'Player_Activity_Derived',\n",
       "       'Turnover_Related', 'Primary_Impact_Type', 'Primary_Partner_GSISID',\n",
       "       'Primary_Partner_Activity_Derived', 'Friendly_Fire'],\n",
       "      dtype='object')"
      ]
     },
     "execution_count": 76,
     "metadata": {},
     "output_type": "execute_result"
    }
   ],
   "source": [
    "# Dataset 1: Video_review\n",
    "\n",
    "df_video_review = pd.read_csv('video_review.csv')\n",
    "df_video_review.columns"
   ]
  },
  {
   "cell_type": "code",
   "execution_count": 77,
   "id": "f80c512c",
   "metadata": {},
   "outputs": [
    {
     "name": "stdout",
     "output_type": "stream",
     "text": [
      "Mean Squared Error (train): 0.715\n",
      "R^2 Score (train): 0.243\n"
     ]
    }
   ],
   "source": [
    "# Dataset 1: Video_review and One Hot Encoding of Categorical Variables with Linear Regression\n",
    "\n",
    "impact_score_map = {\n",
    "    'Helmet-to-helmet': 3,\n",
    "    'Helmet-to-body': 1,\n",
    "    'Helmet-to-ground': 2,\n",
    "}\n",
    "df_video_review['impact_score'] = df_video_review['Primary_Impact_Type'].map(impact_score_map).fillna(0)\n",
    "\n",
    "categorical_features = [\n",
    "    'Player_Activity_Derived',\n",
    "    'Turnover_Related',\n",
    "    'Primary_Partner_Activity_Derived',\n",
    "    'Friendly_Fire'\n",
    "]\n",
    "continuous_features = ['Season_Year', 'GameKey', 'PlayID', 'GSISID', 'Primary_Partner_GSISID']\n",
    "\n",
    "df_clean = df_video_review[~df_video_review[categorical_features].isin(['Unclear']).any(axis=1)].copy()\n",
    "\n",
    "for col in continuous_features:\n",
    "    df_clean[col] = pd.to_numeric(df_clean[col], errors='coerce')\n",
    "df_clean[continuous_features] = df_clean[continuous_features].fillna(0)\n",
    "\n",
    "X_cat = df_clean[categorical_features]\n",
    "X_cont = df_clean[continuous_features]\n",
    "y = df_clean['impact_score']\n",
    "\n",
    "encoder = OneHotEncoder(sparse_output=False, drop=None)\n",
    "X_cat_encoded = encoder.fit_transform(X_cat)\n",
    "encoded_cols = encoder.get_feature_names_out(categorical_features)\n",
    "X_cat_df = pd.DataFrame(X_cat_encoded, columns=encoded_cols, index=df_clean.index)\n",
    "\n",
    "X_all = pd.concat([X_cat_df, X_cont], axis=1)\n",
    "\n",
    "model = LinearRegression()\n",
    "model.fit(X_all, y)\n",
    "\n",
    "y_pred = model.predict(X_all)\n",
    "\n",
    "print(f\"Mean Squared Error (train): {mean_squared_error(y, y_pred):.3f}\")\n",
    "print(f\"R^2 Score (train): {r2_score(y, y_pred):.3f}\")\n"
   ]
  },
  {
   "cell_type": "markdown",
   "id": "b180a29d",
   "metadata": {},
   "source": [
    "Small dataset (~37 rows) of football plays with categorical variables - created an impact severity score (impact_score) by mapping categories like 'Helmet-to-helmet' = 3, etc. and tried predicting it with linear regression using one-hot encoded features.\n",
    "\n",
    "The features left after removing Primary_Impact_Type have weak or no correlation with the target. The dataset is very small, making generalization hard.\n",
    "\n",
    "All features are categorical, and current ones don’t carry enough signal to predict impact severity well.\n",
    "\n",
    "To move forward meaningfully, it's best to reframe the problem as a classification task - Classification is more appropriate for the nature and size of data, and models like Random Forest or Logistic Regression will handle the categorical structure effectively.\n"
   ]
  },
  {
   "cell_type": "code",
   "execution_count": null,
   "id": "e57ea1f3",
   "metadata": {},
   "outputs": [
    {
     "name": "stdout",
     "output_type": "stream",
     "text": [
      "Mean Squared Error (train): 0.776\n",
      "R^2 Score (train): 0.243\n"
     ]
    }
   ],
   "source": [
    "# Dataset 1: Video_review and Polynomial/Interaction Terms with Linear Regression\n",
    "\n",
    "poly = PolynomialFeatures(degree=2, interaction_only=False, include_bias=False)\n",
    "X_poly_train = poly.fit_transform(X_train)  \n",
    "\n",
    "scaler = StandardScaler()\n",
    "X_poly_train_scaled = scaler.fit_transform(X_poly_train)  \n",
    "\n",
    "model = LinearRegression()\n",
    "model.fit(X_poly_train_scaled, y_train)\n",
    "\n",
    "y_pred_train = model.predict(X_poly_train_scaled)\n",
    "\n",
    "print(f\"Mean Squared Error (train): {mean_squared_error(y_train, y_pred_train):.3f}\")\n",
    "print(f\"R^2 Score (train): {r2_score(y_train, y_pred_train):.3f}\")\n",
    "\n"
   ]
  },
  {
   "cell_type": "code",
   "execution_count": 79,
   "id": "d21d303a",
   "metadata": {},
   "outputs": [
    {
     "data": {
      "text/plain": [
       "Index(['PlayerKey', 'GameID', 'PlayKey', 'BodyPart', 'Surface', 'DM_M1',\n",
       "       'DM_M7', 'DM_M28', 'DM_M42'],\n",
       "      dtype='object')"
      ]
     },
     "execution_count": 79,
     "metadata": {},
     "output_type": "execute_result"
    }
   ],
   "source": [
    "# Dataset 2: InjuryRecord\n",
    "file_path = 'InjuryRecord.csv'\n",
    "df_injury = pd.read_csv(file_path)\n",
    "df_injury.columns\n"
   ]
  },
  {
   "cell_type": "code",
   "execution_count": 80,
   "id": "7207f873",
   "metadata": {},
   "outputs": [],
   "source": [
    "# Dataset 2: InjuryRecord and and Polynomial Terms/VIF\n",
    "\n"
   ]
  },
  {
   "cell_type": "code",
   "execution_count": 81,
   "id": "fc90e435",
   "metadata": {},
   "outputs": [],
   "source": [
    "# Dataset 2: InjuryRecord and Interaction Terms\n",
    "\n"
   ]
  },
  {
   "cell_type": "code",
   "execution_count": 82,
   "id": "c621408e",
   "metadata": {},
   "outputs": [],
   "source": [
    "# Dataset 2: InjuryRecord and Categorical "
   ]
  },
  {
   "cell_type": "code",
   "execution_count": 83,
   "id": "4bed6d23",
   "metadata": {},
   "outputs": [],
   "source": [
    "# Dataset 3: "
   ]
  }
 ],
 "metadata": {
  "kernelspec": {
   "display_name": "Python 3",
   "language": "python",
   "name": "python3"
  },
  "language_info": {
   "codemirror_mode": {
    "name": "ipython",
    "version": 3
   },
   "file_extension": ".py",
   "mimetype": "text/x-python",
   "name": "python",
   "nbconvert_exporter": "python",
   "pygments_lexer": "ipython3",
   "version": "3.12.1"
  }
 },
 "nbformat": 4,
 "nbformat_minor": 5
}
