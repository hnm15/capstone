{
 "cells": [
  {
   "cell_type": "markdown",
   "id": "bb21f458-c2b3-44f2-be7d-67e95bbbc4f8",
   "metadata": {},
   "source": [
    "# Week 1 Jupyter Notebook – Linear Regression 1\n"
   ]
  },
  {
   "cell_type": "code",
   "execution_count": 2,
   "id": "5602bd5e-4123-454e-9aeb-94857918d6a6",
   "metadata": {},
   "outputs": [],
   "source": [
    "import pandas as pd\n",
    "import numpy as np"
   ]
  },
  {
   "cell_type": "code",
   "execution_count": 1,
   "id": "451137c6",
   "metadata": {},
   "outputs": [
    {
     "ename": "NameError",
     "evalue": "name 'pd' is not defined",
     "output_type": "error",
     "traceback": [
      "\u001b[31m---------------------------------------------------------------------------\u001b[39m",
      "\u001b[31mNameError\u001b[39m                                 Traceback (most recent call last)",
      "\u001b[36mCell\u001b[39m\u001b[36m \u001b[39m\u001b[32mIn[1]\u001b[39m\u001b[32m, line 3\u001b[39m\n\u001b[32m      1\u001b[39m \u001b[38;5;66;03m# Dataset 1: Video_review\u001b[39;00m\n\u001b[32m----> \u001b[39m\u001b[32m3\u001b[39m df_video_review = \u001b[43mpd\u001b[49m.read_csv(\u001b[33m'\u001b[39m\u001b[33mvideo_review.csv\u001b[39m\u001b[33m'\u001b[39m)\n\u001b[32m      4\u001b[39m df_video_review.columns\n",
      "\u001b[31mNameError\u001b[39m: name 'pd' is not defined"
     ]
    }
   ],
   "source": [
    "# Dataset 1: Video_review\n",
    "\n",
    "df_video_review = pd.read_csv('video_review.csv')\n",
    "df_video_review.columns"
   ]
  },
  {
   "cell_type": "code",
   "execution_count": 55,
   "id": "a57f7d9f",
   "metadata": {},
   "outputs": [
    {
     "name": "stderr",
     "output_type": "stream",
     "text": [
      "/home/codespace/.local/lib/python3.12/site-packages/sklearn/model_selection/_split.py:805: UserWarning: The least populated class in y has only 1 members, which is less than n_splits=5.\n",
      "  warnings.warn(\n"
     ]
    },
    {
     "name": "stdout",
     "output_type": "stream",
     "text": [
      "Cross-validation scores: [0.25       0.25       0.28571429 0.57142857 0.42857143]\n",
      "Mean accuracy:  0.35714285714285715\n",
      "Standard deviation of accuracy:  0.12576297758327862\n"
     ]
    }
   ],
   "source": [
    "# Dataset 1: Video_review RF and Cross-Validation\n",
    "import pandas as pd\n",
    "from sklearn.model_selection import train_test_split, cross_val_score\n",
    "from sklearn.ensemble import RandomForestClassifier\n",
    "\n",
    "X_video_review = df_video_review.drop('Primary_Impact_Type', axis=1)\n",
    "y_video_review = df_video_review['Primary_Impact_Type']\n",
    "X_video_review = pd.get_dummies(X_video_review, drop_first=True)\n",
    "\n",
    "X_train, X_test, y_train, y_test = train_test_split(X_video_review, y_video_review, test_size=0.2, random_state=42)\n",
    "\n",
    "rf = RandomForestClassifier(random_state=42)\n",
    "\n",
    "cv_scores = cross_val_score(rf, X_video_review, y_video_review, cv=5, scoring='accuracy')\n",
    "\n",
    "print(\"Cross-validation scores:\", cv_scores)\n",
    "print(\"Mean accuracy: \", cv_scores.mean())\n",
    "print(\"Standard deviation of accuracy: \", cv_scores.std())\n",
    "\n"
   ]
  },
  {
   "cell_type": "code",
   "execution_count": 56,
   "id": "b974946f",
   "metadata": {},
   "outputs": [
    {
     "name": "stderr",
     "output_type": "stream",
     "text": [
      "/home/codespace/.local/lib/python3.12/site-packages/sklearn/model_selection/_split.py:805: UserWarning: The least populated class in y has only 1 members, which is less than n_splits=5.\n",
      "  warnings.warn(\n"
     ]
    },
    {
     "name": "stdout",
     "output_type": "stream",
     "text": [
      "Best hyperparameters: {'max_depth': None, 'min_samples_leaf': 4, 'min_samples_split': 2, 'n_estimators': 50}\n"
     ]
    }
   ],
   "source": [
    "# Dataset 1: Video_review Hyperparameter Tuning\n",
    "from sklearn.model_selection import GridSearchCV\n",
    "\n",
    "param_grid = {\n",
    "    'n_estimators': [50, 100, 200],  \n",
    "    'max_depth': [None, 10, 20, 30],  \n",
    "    'min_samples_split': [2, 5, 10],  \n",
    "    'min_samples_leaf': [1, 2, 4]  \n",
    "}\n",
    "\n",
    "grid_search = GridSearchCV(estimator=rf, param_grid=param_grid, cv=5, scoring='accuracy')\n",
    "\n",
    "grid_search.fit(X_train, y_train)\n",
    "\n",
    "print(\"Best hyperparameters:\", grid_search.best_params_)\n"
   ]
  },
  {
   "cell_type": "code",
   "execution_count": 57,
   "id": "13d8ed60",
   "metadata": {},
   "outputs": [
    {
     "name": "stdout",
     "output_type": "stream",
     "text": [
      "Test Accuracy: 0.5\n"
     ]
    }
   ],
   "source": [
    "# Dataset 1: Video_review Performance Evaluation\n",
    "\n",
    "best_rf = grid_search.best_estimator_\n",
    "\n",
    "y_pred = best_rf.predict(X_test)\n",
    "\n",
    "from sklearn.metrics import accuracy_score\n",
    "\n",
    "print(\"Test Accuracy:\", accuracy_score(y_test, y_pred))\n",
    "\n"
   ]
  },
  {
   "cell_type": "code",
   "execution_count": 58,
   "id": "05645d81",
   "metadata": {},
   "outputs": [
    {
     "data": {
      "text/plain": [
       "Index(['gameId', 'playId', 'nflId', 'pff_role', 'pff_positionLinedUp',\n",
       "       'pff_hit', 'pff_hurry', 'pff_sack', 'pff_beatenByDefender',\n",
       "       'pff_hitAllowed', 'pff_hurryAllowed', 'pff_sackAllowed',\n",
       "       'pff_nflIdBlockedPlayer', 'pff_blockType', 'pff_backFieldBlock'],\n",
       "      dtype='object')"
      ]
     },
     "execution_count": 58,
     "metadata": {},
     "output_type": "execute_result"
    }
   ],
   "source": [
    "# Dataset 2: pffScoutingData\n",
    "df_pff = pd.read_csv('pffScoutingData.csv')\n",
    "df_pff.columns\n"
   ]
  },
  {
   "cell_type": "code",
   "execution_count": 59,
   "id": "84d0f5a5",
   "metadata": {},
   "outputs": [
    {
     "name": "stdout",
     "output_type": "stream",
     "text": [
      "Cross-validation scores: [0.96799554 0.96547236 0.96895169 0.97081087 0.97078353]\n",
      "Mean accuracy:  0.9688027982445753\n",
      "Standard deviation of accuracy:  0.0019860150497409204\n"
     ]
    }
   ],
   "source": [
    "# Dataset 2: pffScoutingData RF and Cross-Validation\n",
    "\n",
    "y_pff = df_pff['pff_role']\n",
    "X_pff = df_pff.drop('pff_role', axis=1)\n",
    "X_pff = pd.get_dummies(X_pff, drop_first=True)\n",
    "\n",
    "X_train_pff, X_test_pff, y_train_pff, y_test_pff = train_test_split(X_pff, y_pff, test_size=0.2, random_state=42)\n",
    "\n",
    "rf_pff = RandomForestClassifier(random_state=42)\n",
    "\n",
    "cv_scores_pff = cross_val_score(rf_pff, X_pff, y_pff, cv=5, scoring='accuracy')\n",
    "\n",
    "print(\"Cross-validation scores:\", cv_scores_pff)\n",
    "print(\"Mean accuracy: \", cv_scores_pff.mean())\n",
    "print(\"Standard deviation of accuracy: \", cv_scores_pff.std())"
   ]
  },
  {
   "cell_type": "code",
   "execution_count": 60,
   "id": "7deb0308",
   "metadata": {},
   "outputs": [
    {
     "name": "stdout",
     "output_type": "stream",
     "text": [
      "Best hyperparameters: {'max_depth': None, 'min_samples_leaf': 4, 'min_samples_split': 2, 'n_estimators': 100}\n"
     ]
    }
   ],
   "source": [
    "# Dataset 2: pffScoutingData Hyperparameter Tuning\n",
    "\n",
    "param_grid = {\n",
    "    'n_estimators': [50, 100],\n",
    "    'max_depth': [None, 10, 20],\n",
    "    'min_samples_split': [2, 5],\n",
    "    'min_samples_leaf': [1, 4]\n",
    "}\n",
    "\n",
    "grid_search_pff = GridSearchCV(rf_pff, param_grid, cv=5, scoring='accuracy')\n",
    "grid_search_pff.fit(X_train_pff, y_train_pff)\n",
    "\n",
    "print(\"Best hyperparameters:\", grid_search_pff.best_params_)\n",
    "\n"
   ]
  },
  {
   "cell_type": "code",
   "execution_count": 61,
   "id": "df33aa68",
   "metadata": {},
   "outputs": [
    {
     "name": "stdout",
     "output_type": "stream",
     "text": [
      "Test Accuracy: 0.9738917957026374\n"
     ]
    }
   ],
   "source": [
    "# Dataset 2: pffScoutingData Performance Evaluation\n",
    "from sklearn.metrics import accuracy_score\n",
    "\n",
    "best_rf_pff = grid_search_pff.best_estimator_\n",
    "y_pred_pff = best_rf_pff.predict(X_test_pff)  \n",
    "\n",
    "print(\"Test Accuracy:\", accuracy_score(y_test_pff, y_pred_pff))\n",
    "\n"
   ]
  },
  {
   "cell_type": "code",
   "execution_count": 62,
   "id": "d21d303a",
   "metadata": {},
   "outputs": [
    {
     "data": {
      "text/plain": [
       "Index(['PlayerKey', 'GameID', 'PlayKey', 'BodyPart', 'Surface', 'DM_M1',\n",
       "       'DM_M7', 'DM_M28', 'DM_M42'],\n",
       "      dtype='object')"
      ]
     },
     "execution_count": 62,
     "metadata": {},
     "output_type": "execute_result"
    }
   ],
   "source": [
    "# Dataset 3: InjuryRecord\n",
    "file_path = 'InjuryRecord.csv'\n",
    "df_injury = pd.read_csv(file_path)\n",
    "df_injury.columns\n"
   ]
  },
  {
   "cell_type": "code",
   "execution_count": 63,
   "id": "7207f873",
   "metadata": {},
   "outputs": [
    {
     "name": "stdout",
     "output_type": "stream",
     "text": [
      "Cross-validation scores: [0.33333333 0.66666667 0.47619048 0.33333333 0.57142857]\n",
      "Mean accuracy: 0.47619047619047616\n",
      "Standard deviation of accuracy: 0.1312766547818116\n"
     ]
    }
   ],
   "source": [
    "# Dataset 3: InjuryRecord RF and Cross-Validation\n",
    "\n",
    "y_injury_record = df_injury['Surface']\n",
    "X_injury_record = df_injury.drop('Surface', axis=1)\n",
    "\n",
    "X_injury_record = pd.get_dummies(X_injury_record, drop_first=True)\n",
    "\n",
    "X_train_injury, X_test_injury, y_train_injury, y_test_injury = train_test_split(X_injury_record, y_injury_record, test_size=0.2, random_state=42)\n",
    "\n",
    "rf_injury = RandomForestClassifier(random_state=42)\n",
    "cv_scores_injury = cross_val_score(rf_injury, X_injury_record, y_injury_record, cv=5, scoring='accuracy')\n",
    "print(\"Cross-validation scores:\", cv_scores_injury)\n",
    "print(\"Mean accuracy:\", cv_scores_injury.mean())\n",
    "print(\"Standard deviation of accuracy:\", cv_scores_injury.std())\n"
   ]
  },
  {
   "cell_type": "code",
   "execution_count": 64,
   "id": "fc90e435",
   "metadata": {},
   "outputs": [
    {
     "name": "stdout",
     "output_type": "stream",
     "text": [
      "Best hyperparameters: {'max_depth': None, 'min_samples_leaf': 2, 'min_samples_split': 2, 'n_estimators': 50}\n"
     ]
    }
   ],
   "source": [
    "# Dataset 3: InjuryRecord Hyperparameter Tuning\n",
    "\n",
    "param_grid = {\n",
    "    'n_estimators': [50, 100, 150],\n",
    "    'max_depth': [None, 10, 20, 30],\n",
    "    'min_samples_split': [2, 5, 10],\n",
    "    'min_samples_leaf': [1, 2, 4]\n",
    "}\n",
    "\n",
    "rf_injury = RandomForestClassifier(random_state=42)\n",
    "\n",
    "grid_search_injury = GridSearchCV(rf_injury, param_grid, cv=5, scoring='accuracy')\n",
    "\n",
    "grid_search_injury.fit(X_train_injury, y_train_injury)\n",
    "\n",
    "print(\"Best hyperparameters:\", grid_search_injury.best_params_)\n",
    "\n",
    "\n"
   ]
  },
  {
   "cell_type": "code",
   "execution_count": 65,
   "id": "c621408e",
   "metadata": {},
   "outputs": [
    {
     "name": "stdout",
     "output_type": "stream",
     "text": [
      "Test Accuracy: 0.5714285714285714\n"
     ]
    }
   ],
   "source": [
    "# Dataset 3: InjuryRecord Performance Evaluation\n",
    "\n",
    "best_rf_injury = grid_search_injury.best_estimator_\n",
    "y_pred_injury = best_rf_injury.predict(X_test_injury)\n",
    "\n",
    "from sklearn.metrics import accuracy_score\n",
    "print(\"Test Accuracy:\", accuracy_score(y_test_injury, y_pred_injury))"
   ]
  }
 ],
 "metadata": {
  "kernelspec": {
   "display_name": "Python 3",
   "language": "python",
   "name": "python3"
  },
  "language_info": {
   "codemirror_mode": {
    "name": "ipython",
    "version": 3
   },
   "file_extension": ".py",
   "mimetype": "text/x-python",
   "name": "python",
   "nbconvert_exporter": "python",
   "pygments_lexer": "ipython3",
   "version": "3.12.1"
  }
 },
 "nbformat": 4,
 "nbformat_minor": 5
}
