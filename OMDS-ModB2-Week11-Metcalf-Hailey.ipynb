{
 "cells": [
  {
   "cell_type": "markdown",
   "id": "bb21f458-c2b3-44f2-be7d-67e95bbbc4f8",
   "metadata": {},
   "source": [
    "# Week 11 - Introduction to Modeling, part 2"
   ]
  },
  {
   "cell_type": "markdown",
   "id": "3210712e-ad65-41b1-8337-18250e10f737",
   "metadata": {},
   "source": [
    "# 1. Lesson - No lesson this week"
   ]
  },
  {
   "cell_type": "markdown",
   "id": "bfdcf3e4-28cc-401d-b364-5ea3dac4f164",
   "metadata": {},
   "source": [
    "# 2. Weekly graph question"
   ]
  },
  {
   "cell_type": "code",
   "execution_count": 48,
   "id": "5602bd5e-4123-454e-9aeb-94857918d6a6",
   "metadata": {},
   "outputs": [],
   "source": [
    "import pandas as pd\n",
    "import numpy as np\n",
    "from sklearn.ensemble import RandomForestRegressor\n",
    "from sklearn.metrics import root_mean_squared_error\n",
    "from sklearn.model_selection import GridSearchCV\n",
    "from sklearn.metrics import make_scorer"
   ]
  },
  {
   "cell_type": "markdown",
   "id": "740d7e7a-d244-4cbb-9804-97583898ab85",
   "metadata": {},
   "source": [
    "The book names one of Vonnegut's rules as \"keep it simple\" and another as \"have the guts to cut.\"  Here is some data from the previous week's lesson.  If you had to cut one of the two plots below, which would it be?  Which seems more interesting or important?  Explain.  (Should \"amount of training data used\" or \"number of estimators\" be on the x-axis.)"
   ]
  },
  {
   "cell_type": "code",
   "execution_count": 49,
   "id": "7d26777f-60b8-4e82-9109-49b7b89b0d90",
   "metadata": {},
   "outputs": [
    {
     "data": {
      "text/html": [
       "<style>#sk-container-id-2 {\n",
       "  /* Definition of color scheme common for light and dark mode */\n",
       "  --sklearn-color-text: #000;\n",
       "  --sklearn-color-text-muted: #666;\n",
       "  --sklearn-color-line: gray;\n",
       "  /* Definition of color scheme for unfitted estimators */\n",
       "  --sklearn-color-unfitted-level-0: #fff5e6;\n",
       "  --sklearn-color-unfitted-level-1: #f6e4d2;\n",
       "  --sklearn-color-unfitted-level-2: #ffe0b3;\n",
       "  --sklearn-color-unfitted-level-3: chocolate;\n",
       "  /* Definition of color scheme for fitted estimators */\n",
       "  --sklearn-color-fitted-level-0: #f0f8ff;\n",
       "  --sklearn-color-fitted-level-1: #d4ebff;\n",
       "  --sklearn-color-fitted-level-2: #b3dbfd;\n",
       "  --sklearn-color-fitted-level-3: cornflowerblue;\n",
       "\n",
       "  /* Specific color for light theme */\n",
       "  --sklearn-color-text-on-default-background: var(--sg-text-color, var(--theme-code-foreground, var(--jp-content-font-color1, black)));\n",
       "  --sklearn-color-background: var(--sg-background-color, var(--theme-background, var(--jp-layout-color0, white)));\n",
       "  --sklearn-color-border-box: var(--sg-text-color, var(--theme-code-foreground, var(--jp-content-font-color1, black)));\n",
       "  --sklearn-color-icon: #696969;\n",
       "\n",
       "  @media (prefers-color-scheme: dark) {\n",
       "    /* Redefinition of color scheme for dark theme */\n",
       "    --sklearn-color-text-on-default-background: var(--sg-text-color, var(--theme-code-foreground, var(--jp-content-font-color1, white)));\n",
       "    --sklearn-color-background: var(--sg-background-color, var(--theme-background, var(--jp-layout-color0, #111)));\n",
       "    --sklearn-color-border-box: var(--sg-text-color, var(--theme-code-foreground, var(--jp-content-font-color1, white)));\n",
       "    --sklearn-color-icon: #878787;\n",
       "  }\n",
       "}\n",
       "\n",
       "#sk-container-id-2 {\n",
       "  color: var(--sklearn-color-text);\n",
       "}\n",
       "\n",
       "#sk-container-id-2 pre {\n",
       "  padding: 0;\n",
       "}\n",
       "\n",
       "#sk-container-id-2 input.sk-hidden--visually {\n",
       "  border: 0;\n",
       "  clip: rect(1px 1px 1px 1px);\n",
       "  clip: rect(1px, 1px, 1px, 1px);\n",
       "  height: 1px;\n",
       "  margin: -1px;\n",
       "  overflow: hidden;\n",
       "  padding: 0;\n",
       "  position: absolute;\n",
       "  width: 1px;\n",
       "}\n",
       "\n",
       "#sk-container-id-2 div.sk-dashed-wrapped {\n",
       "  border: 1px dashed var(--sklearn-color-line);\n",
       "  margin: 0 0.4em 0.5em 0.4em;\n",
       "  box-sizing: border-box;\n",
       "  padding-bottom: 0.4em;\n",
       "  background-color: var(--sklearn-color-background);\n",
       "}\n",
       "\n",
       "#sk-container-id-2 div.sk-container {\n",
       "  /* jupyter's `normalize.less` sets `[hidden] { display: none; }`\n",
       "     but bootstrap.min.css set `[hidden] { display: none !important; }`\n",
       "     so we also need the `!important` here to be able to override the\n",
       "     default hidden behavior on the sphinx rendered scikit-learn.org.\n",
       "     See: https://github.com/scikit-learn/scikit-learn/issues/21755 */\n",
       "  display: inline-block !important;\n",
       "  position: relative;\n",
       "}\n",
       "\n",
       "#sk-container-id-2 div.sk-text-repr-fallback {\n",
       "  display: none;\n",
       "}\n",
       "\n",
       "div.sk-parallel-item,\n",
       "div.sk-serial,\n",
       "div.sk-item {\n",
       "  /* draw centered vertical line to link estimators */\n",
       "  background-image: linear-gradient(var(--sklearn-color-text-on-default-background), var(--sklearn-color-text-on-default-background));\n",
       "  background-size: 2px 100%;\n",
       "  background-repeat: no-repeat;\n",
       "  background-position: center center;\n",
       "}\n",
       "\n",
       "/* Parallel-specific style estimator block */\n",
       "\n",
       "#sk-container-id-2 div.sk-parallel-item::after {\n",
       "  content: \"\";\n",
       "  width: 100%;\n",
       "  border-bottom: 2px solid var(--sklearn-color-text-on-default-background);\n",
       "  flex-grow: 1;\n",
       "}\n",
       "\n",
       "#sk-container-id-2 div.sk-parallel {\n",
       "  display: flex;\n",
       "  align-items: stretch;\n",
       "  justify-content: center;\n",
       "  background-color: var(--sklearn-color-background);\n",
       "  position: relative;\n",
       "}\n",
       "\n",
       "#sk-container-id-2 div.sk-parallel-item {\n",
       "  display: flex;\n",
       "  flex-direction: column;\n",
       "}\n",
       "\n",
       "#sk-container-id-2 div.sk-parallel-item:first-child::after {\n",
       "  align-self: flex-end;\n",
       "  width: 50%;\n",
       "}\n",
       "\n",
       "#sk-container-id-2 div.sk-parallel-item:last-child::after {\n",
       "  align-self: flex-start;\n",
       "  width: 50%;\n",
       "}\n",
       "\n",
       "#sk-container-id-2 div.sk-parallel-item:only-child::after {\n",
       "  width: 0;\n",
       "}\n",
       "\n",
       "/* Serial-specific style estimator block */\n",
       "\n",
       "#sk-container-id-2 div.sk-serial {\n",
       "  display: flex;\n",
       "  flex-direction: column;\n",
       "  align-items: center;\n",
       "  background-color: var(--sklearn-color-background);\n",
       "  padding-right: 1em;\n",
       "  padding-left: 1em;\n",
       "}\n",
       "\n",
       "\n",
       "/* Toggleable style: style used for estimator/Pipeline/ColumnTransformer box that is\n",
       "clickable and can be expanded/collapsed.\n",
       "- Pipeline and ColumnTransformer use this feature and define the default style\n",
       "- Estimators will overwrite some part of the style using the `sk-estimator` class\n",
       "*/\n",
       "\n",
       "/* Pipeline and ColumnTransformer style (default) */\n",
       "\n",
       "#sk-container-id-2 div.sk-toggleable {\n",
       "  /* Default theme specific background. It is overwritten whether we have a\n",
       "  specific estimator or a Pipeline/ColumnTransformer */\n",
       "  background-color: var(--sklearn-color-background);\n",
       "}\n",
       "\n",
       "/* Toggleable label */\n",
       "#sk-container-id-2 label.sk-toggleable__label {\n",
       "  cursor: pointer;\n",
       "  display: flex;\n",
       "  width: 100%;\n",
       "  margin-bottom: 0;\n",
       "  padding: 0.5em;\n",
       "  box-sizing: border-box;\n",
       "  text-align: center;\n",
       "  align-items: start;\n",
       "  justify-content: space-between;\n",
       "  gap: 0.5em;\n",
       "}\n",
       "\n",
       "#sk-container-id-2 label.sk-toggleable__label .caption {\n",
       "  font-size: 0.6rem;\n",
       "  font-weight: lighter;\n",
       "  color: var(--sklearn-color-text-muted);\n",
       "}\n",
       "\n",
       "#sk-container-id-2 label.sk-toggleable__label-arrow:before {\n",
       "  /* Arrow on the left of the label */\n",
       "  content: \"▸\";\n",
       "  float: left;\n",
       "  margin-right: 0.25em;\n",
       "  color: var(--sklearn-color-icon);\n",
       "}\n",
       "\n",
       "#sk-container-id-2 label.sk-toggleable__label-arrow:hover:before {\n",
       "  color: var(--sklearn-color-text);\n",
       "}\n",
       "\n",
       "/* Toggleable content - dropdown */\n",
       "\n",
       "#sk-container-id-2 div.sk-toggleable__content {\n",
       "  max-height: 0;\n",
       "  max-width: 0;\n",
       "  overflow: hidden;\n",
       "  text-align: left;\n",
       "  /* unfitted */\n",
       "  background-color: var(--sklearn-color-unfitted-level-0);\n",
       "}\n",
       "\n",
       "#sk-container-id-2 div.sk-toggleable__content.fitted {\n",
       "  /* fitted */\n",
       "  background-color: var(--sklearn-color-fitted-level-0);\n",
       "}\n",
       "\n",
       "#sk-container-id-2 div.sk-toggleable__content pre {\n",
       "  margin: 0.2em;\n",
       "  border-radius: 0.25em;\n",
       "  color: var(--sklearn-color-text);\n",
       "  /* unfitted */\n",
       "  background-color: var(--sklearn-color-unfitted-level-0);\n",
       "}\n",
       "\n",
       "#sk-container-id-2 div.sk-toggleable__content.fitted pre {\n",
       "  /* unfitted */\n",
       "  background-color: var(--sklearn-color-fitted-level-0);\n",
       "}\n",
       "\n",
       "#sk-container-id-2 input.sk-toggleable__control:checked~div.sk-toggleable__content {\n",
       "  /* Expand drop-down */\n",
       "  max-height: 200px;\n",
       "  max-width: 100%;\n",
       "  overflow: auto;\n",
       "}\n",
       "\n",
       "#sk-container-id-2 input.sk-toggleable__control:checked~label.sk-toggleable__label-arrow:before {\n",
       "  content: \"▾\";\n",
       "}\n",
       "\n",
       "/* Pipeline/ColumnTransformer-specific style */\n",
       "\n",
       "#sk-container-id-2 div.sk-label input.sk-toggleable__control:checked~label.sk-toggleable__label {\n",
       "  color: var(--sklearn-color-text);\n",
       "  background-color: var(--sklearn-color-unfitted-level-2);\n",
       "}\n",
       "\n",
       "#sk-container-id-2 div.sk-label.fitted input.sk-toggleable__control:checked~label.sk-toggleable__label {\n",
       "  background-color: var(--sklearn-color-fitted-level-2);\n",
       "}\n",
       "\n",
       "/* Estimator-specific style */\n",
       "\n",
       "/* Colorize estimator box */\n",
       "#sk-container-id-2 div.sk-estimator input.sk-toggleable__control:checked~label.sk-toggleable__label {\n",
       "  /* unfitted */\n",
       "  background-color: var(--sklearn-color-unfitted-level-2);\n",
       "}\n",
       "\n",
       "#sk-container-id-2 div.sk-estimator.fitted input.sk-toggleable__control:checked~label.sk-toggleable__label {\n",
       "  /* fitted */\n",
       "  background-color: var(--sklearn-color-fitted-level-2);\n",
       "}\n",
       "\n",
       "#sk-container-id-2 div.sk-label label.sk-toggleable__label,\n",
       "#sk-container-id-2 div.sk-label label {\n",
       "  /* The background is the default theme color */\n",
       "  color: var(--sklearn-color-text-on-default-background);\n",
       "}\n",
       "\n",
       "/* On hover, darken the color of the background */\n",
       "#sk-container-id-2 div.sk-label:hover label.sk-toggleable__label {\n",
       "  color: var(--sklearn-color-text);\n",
       "  background-color: var(--sklearn-color-unfitted-level-2);\n",
       "}\n",
       "\n",
       "/* Label box, darken color on hover, fitted */\n",
       "#sk-container-id-2 div.sk-label.fitted:hover label.sk-toggleable__label.fitted {\n",
       "  color: var(--sklearn-color-text);\n",
       "  background-color: var(--sklearn-color-fitted-level-2);\n",
       "}\n",
       "\n",
       "/* Estimator label */\n",
       "\n",
       "#sk-container-id-2 div.sk-label label {\n",
       "  font-family: monospace;\n",
       "  font-weight: bold;\n",
       "  display: inline-block;\n",
       "  line-height: 1.2em;\n",
       "}\n",
       "\n",
       "#sk-container-id-2 div.sk-label-container {\n",
       "  text-align: center;\n",
       "}\n",
       "\n",
       "/* Estimator-specific */\n",
       "#sk-container-id-2 div.sk-estimator {\n",
       "  font-family: monospace;\n",
       "  border: 1px dotted var(--sklearn-color-border-box);\n",
       "  border-radius: 0.25em;\n",
       "  box-sizing: border-box;\n",
       "  margin-bottom: 0.5em;\n",
       "  /* unfitted */\n",
       "  background-color: var(--sklearn-color-unfitted-level-0);\n",
       "}\n",
       "\n",
       "#sk-container-id-2 div.sk-estimator.fitted {\n",
       "  /* fitted */\n",
       "  background-color: var(--sklearn-color-fitted-level-0);\n",
       "}\n",
       "\n",
       "/* on hover */\n",
       "#sk-container-id-2 div.sk-estimator:hover {\n",
       "  /* unfitted */\n",
       "  background-color: var(--sklearn-color-unfitted-level-2);\n",
       "}\n",
       "\n",
       "#sk-container-id-2 div.sk-estimator.fitted:hover {\n",
       "  /* fitted */\n",
       "  background-color: var(--sklearn-color-fitted-level-2);\n",
       "}\n",
       "\n",
       "/* Specification for estimator info (e.g. \"i\" and \"?\") */\n",
       "\n",
       "/* Common style for \"i\" and \"?\" */\n",
       "\n",
       ".sk-estimator-doc-link,\n",
       "a:link.sk-estimator-doc-link,\n",
       "a:visited.sk-estimator-doc-link {\n",
       "  float: right;\n",
       "  font-size: smaller;\n",
       "  line-height: 1em;\n",
       "  font-family: monospace;\n",
       "  background-color: var(--sklearn-color-background);\n",
       "  border-radius: 1em;\n",
       "  height: 1em;\n",
       "  width: 1em;\n",
       "  text-decoration: none !important;\n",
       "  margin-left: 0.5em;\n",
       "  text-align: center;\n",
       "  /* unfitted */\n",
       "  border: var(--sklearn-color-unfitted-level-1) 1pt solid;\n",
       "  color: var(--sklearn-color-unfitted-level-1);\n",
       "}\n",
       "\n",
       ".sk-estimator-doc-link.fitted,\n",
       "a:link.sk-estimator-doc-link.fitted,\n",
       "a:visited.sk-estimator-doc-link.fitted {\n",
       "  /* fitted */\n",
       "  border: var(--sklearn-color-fitted-level-1) 1pt solid;\n",
       "  color: var(--sklearn-color-fitted-level-1);\n",
       "}\n",
       "\n",
       "/* On hover */\n",
       "div.sk-estimator:hover .sk-estimator-doc-link:hover,\n",
       ".sk-estimator-doc-link:hover,\n",
       "div.sk-label-container:hover .sk-estimator-doc-link:hover,\n",
       ".sk-estimator-doc-link:hover {\n",
       "  /* unfitted */\n",
       "  background-color: var(--sklearn-color-unfitted-level-3);\n",
       "  color: var(--sklearn-color-background);\n",
       "  text-decoration: none;\n",
       "}\n",
       "\n",
       "div.sk-estimator.fitted:hover .sk-estimator-doc-link.fitted:hover,\n",
       ".sk-estimator-doc-link.fitted:hover,\n",
       "div.sk-label-container:hover .sk-estimator-doc-link.fitted:hover,\n",
       ".sk-estimator-doc-link.fitted:hover {\n",
       "  /* fitted */\n",
       "  background-color: var(--sklearn-color-fitted-level-3);\n",
       "  color: var(--sklearn-color-background);\n",
       "  text-decoration: none;\n",
       "}\n",
       "\n",
       "/* Span, style for the box shown on hovering the info icon */\n",
       ".sk-estimator-doc-link span {\n",
       "  display: none;\n",
       "  z-index: 9999;\n",
       "  position: relative;\n",
       "  font-weight: normal;\n",
       "  right: .2ex;\n",
       "  padding: .5ex;\n",
       "  margin: .5ex;\n",
       "  width: min-content;\n",
       "  min-width: 20ex;\n",
       "  max-width: 50ex;\n",
       "  color: var(--sklearn-color-text);\n",
       "  box-shadow: 2pt 2pt 4pt #999;\n",
       "  /* unfitted */\n",
       "  background: var(--sklearn-color-unfitted-level-0);\n",
       "  border: .5pt solid var(--sklearn-color-unfitted-level-3);\n",
       "}\n",
       "\n",
       ".sk-estimator-doc-link.fitted span {\n",
       "  /* fitted */\n",
       "  background: var(--sklearn-color-fitted-level-0);\n",
       "  border: var(--sklearn-color-fitted-level-3);\n",
       "}\n",
       "\n",
       ".sk-estimator-doc-link:hover span {\n",
       "  display: block;\n",
       "}\n",
       "\n",
       "/* \"?\"-specific style due to the `<a>` HTML tag */\n",
       "\n",
       "#sk-container-id-2 a.estimator_doc_link {\n",
       "  float: right;\n",
       "  font-size: 1rem;\n",
       "  line-height: 1em;\n",
       "  font-family: monospace;\n",
       "  background-color: var(--sklearn-color-background);\n",
       "  border-radius: 1rem;\n",
       "  height: 1rem;\n",
       "  width: 1rem;\n",
       "  text-decoration: none;\n",
       "  /* unfitted */\n",
       "  color: var(--sklearn-color-unfitted-level-1);\n",
       "  border: var(--sklearn-color-unfitted-level-1) 1pt solid;\n",
       "}\n",
       "\n",
       "#sk-container-id-2 a.estimator_doc_link.fitted {\n",
       "  /* fitted */\n",
       "  border: var(--sklearn-color-fitted-level-1) 1pt solid;\n",
       "  color: var(--sklearn-color-fitted-level-1);\n",
       "}\n",
       "\n",
       "/* On hover */\n",
       "#sk-container-id-2 a.estimator_doc_link:hover {\n",
       "  /* unfitted */\n",
       "  background-color: var(--sklearn-color-unfitted-level-3);\n",
       "  color: var(--sklearn-color-background);\n",
       "  text-decoration: none;\n",
       "}\n",
       "\n",
       "#sk-container-id-2 a.estimator_doc_link.fitted:hover {\n",
       "  /* fitted */\n",
       "  background-color: var(--sklearn-color-fitted-level-3);\n",
       "}\n",
       "</style><div id=\"sk-container-id-2\" class=\"sk-top-container\"><div class=\"sk-text-repr-fallback\"><pre>RandomForestRegressor()</pre><b>In a Jupyter environment, please rerun this cell to show the HTML representation or trust the notebook. <br />On GitHub, the HTML representation is unable to render, please try loading this page with nbviewer.org.</b></div><div class=\"sk-container\" hidden><div class=\"sk-item\"><div class=\"sk-estimator fitted sk-toggleable\"><input class=\"sk-toggleable__control sk-hidden--visually\" id=\"sk-estimator-id-2\" type=\"checkbox\" checked><label for=\"sk-estimator-id-2\" class=\"sk-toggleable__label fitted sk-toggleable__label-arrow\"><div><div>RandomForestRegressor</div></div><div><a class=\"sk-estimator-doc-link fitted\" rel=\"noreferrer\" target=\"_blank\" href=\"https://scikit-learn.org/1.6/modules/generated/sklearn.ensemble.RandomForestRegressor.html\">?<span>Documentation for RandomForestRegressor</span></a><span class=\"sk-estimator-doc-link fitted\">i<span>Fitted</span></span></div></label><div class=\"sk-toggleable__content fitted\"><pre>RandomForestRegressor()</pre></div> </div></div></div></div>"
      ],
      "text/plain": [
       "RandomForestRegressor()"
      ]
     },
     "execution_count": 49,
     "metadata": {},
     "output_type": "execute_result"
    }
   ],
   "source": [
    "np.random.seed(0)\n",
    "num_points = 10000\n",
    "feature_1a = np.random.random(size = num_points) * 3\n",
    "feature_2a = np.random.random(size = num_points) * 3\n",
    "feature_3a = np.random.random(size = num_points) * 3\n",
    "train_target = (feature_1a - 2 * feature_2a) * feature_3a + np.random.normal(size = num_points)\n",
    "feature_1b = np.random.random(size = num_points) * 3\n",
    "feature_2b = np.random.random(size = num_points) * 3\n",
    "feature_3b = np.random.random(size = num_points) * 3\n",
    "test_target = (feature_1b - 2 * feature_2b) * feature_3b + np.random.normal(size = num_points)\n",
    "train_df = pd.DataFrame({\"f1\": feature_1a, \"f2\": feature_2a, \"f3\": feature_3a})\n",
    "test_df = pd.DataFrame({\"f1\": feature_1b, \"f2\": feature_2b, \"f3\": feature_3b})\n",
    "rf = RandomForestRegressor()\n",
    "rf.fit(train_df.values, train_target)"
   ]
  },
  {
   "cell_type": "code",
   "execution_count": 50,
   "id": "3043eff6-7f5c-43e9-bad1-727340c7be4e",
   "metadata": {},
   "outputs": [],
   "source": [
    "rmse_lst = list()\n",
    "rf = RandomForestRegressor()\n",
    "for x in range(round(num_points / 20), num_points, round(num_points / 20)):\n",
    "    rf.fit(train_df.values[0:x,:], train_target[0:x])\n",
    "    rmse_lst.append(root_mean_squared_error(rf.predict(test_df.values), test_target))\n",
    "\n",
    "import matplotlib.pyplot as plt"
   ]
  },
  {
   "cell_type": "code",
   "execution_count": 51,
   "id": "430dff57-a039-4782-be1f-d0db87b4f5af",
   "metadata": {},
   "outputs": [
    {
     "data": {
      "text/plain": [
       "Text(0, 0.5, 'Loss function')"
      ]
     },
     "execution_count": 51,
     "metadata": {},
     "output_type": "execute_result"
    },
    {
     "data": {
      "image/png": "[encoded data removed]",
      "text/plain": [
       "<Figure size 640x480 with 1 Axes>"
      ]
     },
     "metadata": {},
     "output_type": "display_data"
    }
   ],
   "source": [
    "plt.plot(rmse_lst)\n",
    "plt.xlabel(\"Amount of training data used (20 = max)\")\n",
    "plt.ylabel(\"Loss function\")"
   ]
  },
  {
   "cell_type": "code",
   "execution_count": 52,
   "id": "aa974208-3f1a-4536-bc20-695e0ff844c6",
   "metadata": {},
   "outputs": [],
   "source": [
    "num_trees_lst = list()\n",
    "for n_estimators in range(1, 100, 3):\n",
    "    rf = RandomForestRegressor(n_estimators = n_estimators)\n",
    "    rf.fit(train_df.values, train_target)\n",
    "    num_trees_lst.append(root_mean_squared_error(rf.predict(test_df.values), test_target))"
   ]
  },
  {
   "cell_type": "code",
   "execution_count": 53,
   "id": "bb48cf7f-bfc3-4c8a-ba7b-25ea9d9167c3",
   "metadata": {},
   "outputs": [
    {
     "data": {
      "text/plain": [
       "Text(0, 0.5, 'Loss function')"
      ]
     },
     "execution_count": 53,
     "metadata": {},
     "output_type": "execute_result"
    },
    {
     "data": {
      "image/png": "[encoded data removed]",
      "text/plain": [
       "<Figure size 640x480 with 1 Axes>"
      ]
     },
     "metadata": {},
     "output_type": "display_data"
    }
   ],
   "source": [
    "plt.plot(num_trees_lst)\n",
    "plt.xlabel(\"Number of estimators (trees)\")\n",
    "plt.ylabel(\"Loss function\")"
   ]
  },
  {
   "cell_type": "markdown",
   "id": "2f14ac47",
   "metadata": {},
   "source": [
    "Between these two graphs, I would cut the \"number of estimators\" plot. Our goal is to learn the model's behavior; the \"amount of training data used\" graph provides insight into determining if the model is under/overfitting, if adding more data will improve its performance, and if the model plateaued (i.e. if it no longer provides insightful results). The \"number of estimators\" plot is useful in determining the complexity of the graph; how does the model change when we add more trees. However, random forests benefit when there are more trees (to a point - it eventually stabilizes) so this graph is important but not as insightful as the training data one which is giving us more important analysis regarding the model itself. "
   ]
  },
  {
   "cell_type": "markdown",
   "id": "f47207b4-5c57-4149-b617-f37589807b82",
   "metadata": {},
   "source": [
    "# 3. Working on your datasets"
   ]
  },
  {
   "cell_type": "markdown",
   "id": "845e786d-7afe-4fac-a207-348929442e08",
   "metadata": {},
   "source": [
    "This week, you will do the same types of exercises as last week, but you should use your chosen datasets that someone in your class found last semester. (They likely will not be the particular datasets that you found yourself.)\n",
    "\n",
    "Here are some types of analysis you can do:\n",
    "\n",
    "* Implement a random forest model.\n",
    "* Perform cross-validation.\n",
    "* Tune hyperparameters.\n",
    "* Evaluate a performance metric.\n",
    "\n",
    "If you like, you can try other types of models, too (beyond linear regression and random forest) although you will have many opportunities to do that next semester."
   ]
  },
  {
   "cell_type": "code",
   "execution_count": 54,
   "id": "451137c6",
   "metadata": {},
   "outputs": [
    {
     "data": {
      "text/plain": [
       "Index(['Season_Year', 'GameKey', 'PlayID', 'GSISID', 'Player_Activity_Derived',\n",
       "       'Turnover_Related', 'Primary_Impact_Type', 'Primary_Partner_GSISID',\n",
       "       'Primary_Partner_Activity_Derived', 'Friendly_Fire'],\n",
       "      dtype='object')"
      ]
     },
     "execution_count": 54,
     "metadata": {},
     "output_type": "execute_result"
    }
   ],
   "source": [
    "# Dataset 1: Video_review\n",
    "\n",
    "df_video_review = pd.read_csv('video_review.csv')\n",
    "df_video_review.columns"
   ]
  },
  {
   "cell_type": "code",
   "execution_count": 55,
   "id": "a57f7d9f",
   "metadata": {},
   "outputs": [
    {
     "name": "stderr",
     "output_type": "stream",
     "text": [
      "/home/codespace/.local/lib/python3.12/site-packages/sklearn/model_selection/_split.py:805: UserWarning: The least populated class in y has only 1 members, which is less than n_splits=5.\n",
      "  warnings.warn(\n"
     ]
    },
    {
     "name": "stdout",
     "output_type": "stream",
     "text": [
      "Cross-validation scores: [0.25       0.25       0.28571429 0.57142857 0.42857143]\n",
      "Mean accuracy:  0.35714285714285715\n",
      "Standard deviation of accuracy:  0.12576297758327862\n"
     ]
    }
   ],
   "source": [
    "# Dataset 1: Video_review RF and Cross-Validation\n",
    "import pandas as pd\n",
    "from sklearn.model_selection import train_test_split, cross_val_score\n",
    "from sklearn.ensemble import RandomForestClassifier\n",
    "\n",
    "X_video_review = df_video_review.drop('Primary_Impact_Type', axis=1)\n",
    "y_video_review = df_video_review['Primary_Impact_Type']\n",
    "X_video_review = pd.get_dummies(X_video_review, drop_first=True)\n",
    "\n",
    "X_train, X_test, y_train, y_test = train_test_split(X_video_review, y_video_review, test_size=0.2, random_state=42)\n",
    "\n",
    "rf = RandomForestClassifier(random_state=42)\n",
    "\n",
    "cv_scores = cross_val_score(rf, X_video_review, y_video_review, cv=5, scoring='accuracy')\n",
    "\n",
    "print(\"Cross-validation scores:\", cv_scores)\n",
    "print(\"Mean accuracy: \", cv_scores.mean())\n",
    "print(\"Standard deviation of accuracy: \", cv_scores.std())\n",
    "\n"
   ]
  },
  {
   "cell_type": "code",
   "execution_count": 56,
   "id": "b974946f",
   "metadata": {},
   "outputs": [
    {
     "name": "stderr",
     "output_type": "stream",
     "text": [
      "/home/codespace/.local/lib/python3.12/site-packages/sklearn/model_selection/_split.py:805: UserWarning: The least populated class in y has only 1 members, which is less than n_splits=5.\n",
      "  warnings.warn(\n"
     ]
    },
    {
     "name": "stdout",
     "output_type": "stream",
     "text": [
      "Best hyperparameters: {'max_depth': None, 'min_samples_leaf': 4, 'min_samples_split': 2, 'n_estimators': 50}\n"
     ]
    }
   ],
   "source": [
    "# Dataset 1: Video_review Hyperparameter Tuning\n",
    "from sklearn.model_selection import GridSearchCV\n",
    "\n",
    "param_grid = {\n",
    "    'n_estimators': [50, 100, 200],  \n",
    "    'max_depth': [None, 10, 20, 30],  \n",
    "    'min_samples_split': [2, 5, 10],  \n",
    "    'min_samples_leaf': [1, 2, 4]  \n",
    "}\n",
    "\n",
    "grid_search = GridSearchCV(estimator=rf, param_grid=param_grid, cv=5, scoring='accuracy')\n",
    "\n",
    "grid_search.fit(X_train, y_train)\n",
    "\n",
    "print(\"Best hyperparameters:\", grid_search.best_params_)\n"
   ]
  },
  {
   "cell_type": "code",
   "execution_count": 57,
   "id": "13d8ed60",
   "metadata": {},
   "outputs": [
    {
     "name": "stdout",
     "output_type": "stream",
     "text": [
      "Test Accuracy: 0.5\n"
     ]
    }
   ],
   "source": [
    "# Dataset 1: Video_review Performance Evaluation\n",
    "\n",
    "best_rf = grid_search.best_estimator_\n",
    "\n",
    "y_pred = best_rf.predict(X_test)\n",
    "\n",
    "from sklearn.metrics import accuracy_score\n",
    "\n",
    "print(\"Test Accuracy:\", accuracy_score(y_test, y_pred))\n",
    "\n"
   ]
  },
  {
   "cell_type": "code",
   "execution_count": 58,
   "id": "05645d81",
   "metadata": {},
   "outputs": [
    {
     "data": {
      "text/plain": [
       "Index(['gameId', 'playId', 'nflId', 'pff_role', 'pff_positionLinedUp',\n",
       "       'pff_hit', 'pff_hurry', 'pff_sack', 'pff_beatenByDefender',\n",
       "       'pff_hitAllowed', 'pff_hurryAllowed', 'pff_sackAllowed',\n",
       "       'pff_nflIdBlockedPlayer', 'pff_blockType', 'pff_backFieldBlock'],\n",
       "      dtype='object')"
      ]
     },
     "execution_count": 58,
     "metadata": {},
     "output_type": "execute_result"
    }
   ],
   "source": [
    "# Dataset 2: pffScoutingData\n",
    "df_pff = pd.read_csv('pffScoutingData.csv')\n",
    "df_pff.columns\n"
   ]
  },
  {
   "cell_type": "code",
   "execution_count": 59,
   "id": "84d0f5a5",
   "metadata": {},
   "outputs": [
    {
     "name": "stdout",
     "output_type": "stream",
     "text": [
      "Cross-validation scores: [0.96799554 0.96547236 0.96895169 0.97081087 0.97078353]\n",
      "Mean accuracy:  0.9688027982445753\n",
      "Standard deviation of accuracy:  0.0019860150497409204\n"
     ]
    }
   ],
   "source": [
    "# Dataset 2: pffScoutingData RF and Cross-Validation\n",
    "\n",
    "y_pff = df_pff['pff_role']\n",
    "X_pff = df_pff.drop('pff_role', axis=1)\n",
    "X_pff = pd.get_dummies(X_pff, drop_first=True)\n",
    "\n",
    "X_train_pff, X_test_pff, y_train_pff, y_test_pff = train_test_split(X_pff, y_pff, test_size=0.2, random_state=42)\n",
    "\n",
    "rf_pff = RandomForestClassifier(random_state=42)\n",
    "\n",
    "cv_scores_pff = cross_val_score(rf_pff, X_pff, y_pff, cv=5, scoring='accuracy')\n",
    "\n",
    "print(\"Cross-validation scores:\", cv_scores_pff)\n",
    "print(\"Mean accuracy: \", cv_scores_pff.mean())\n",
    "print(\"Standard deviation of accuracy: \", cv_scores_pff.std())"
   ]
  },
  {
   "cell_type": "code",
   "execution_count": 60,
   "id": "7deb0308",
   "metadata": {},
   "outputs": [
    {
     "name": "stdout",
     "output_type": "stream",
     "text": [
      "Best hyperparameters: {'max_depth': None, 'min_samples_leaf': 4, 'min_samples_split': 2, 'n_estimators': 100}\n"
     ]
    }
   ],
   "source": [
    "# Dataset 2: pffScoutingData Hyperparameter Tuning\n",
    "\n",
    "param_grid = {\n",
    "    'n_estimators': [50, 100],\n",
    "    'max_depth': [None, 10, 20],\n",
    "    'min_samples_split': [2, 5],\n",
    "    'min_samples_leaf': [1, 4]\n",
    "}\n",
    "\n",
    "grid_search_pff = GridSearchCV(rf_pff, param_grid, cv=5, scoring='accuracy')\n",
    "grid_search_pff.fit(X_train_pff, y_train_pff)\n",
    "\n",
    "print(\"Best hyperparameters:\", grid_search_pff.best_params_)\n",
    "\n"
   ]
  },
  {
   "cell_type": "code",
   "execution_count": 61,
   "id": "df33aa68",
   "metadata": {},
   "outputs": [
    {
     "name": "stdout",
     "output_type": "stream",
     "text": [
      "Test Accuracy: 0.9738917957026374\n"
     ]
    }
   ],
   "source": [
    "# Dataset 2: pffScoutingData Performance Evaluation\n",
    "from sklearn.metrics import accuracy_score\n",
    "\n",
    "best_rf_pff = grid_search_pff.best_estimator_\n",
    "y_pred_pff = best_rf_pff.predict(X_test_pff)  \n",
    "\n",
    "print(\"Test Accuracy:\", accuracy_score(y_test_pff, y_pred_pff))\n",
    "\n"
   ]
  },
  {
   "cell_type": "code",
   "execution_count": 62,
   "id": "d21d303a",
   "metadata": {},
   "outputs": [
    {
     "data": {
      "text/plain": [
       "Index(['PlayerKey', 'GameID', 'PlayKey', 'BodyPart', 'Surface', 'DM_M1',\n",
       "       'DM_M7', 'DM_M28', 'DM_M42'],\n",
       "      dtype='object')"
      ]
     },
     "execution_count": 62,
     "metadata": {},
     "output_type": "execute_result"
    }
   ],
   "source": [
    "# Dataset 3: InjuryRecord\n",
    "file_path = 'InjuryRecord.csv'\n",
    "df_injury = pd.read_csv(file_path)\n",
    "df_injury.columns\n"
   ]
  },
  {
   "cell_type": "code",
   "execution_count": 63,
   "id": "7207f873",
   "metadata": {},
   "outputs": [
    {
     "name": "stdout",
     "output_type": "stream",
     "text": [
      "Cross-validation scores: [0.33333333 0.66666667 0.47619048 0.33333333 0.57142857]\n",
      "Mean accuracy: 0.47619047619047616\n",
      "Standard deviation of accuracy: 0.1312766547818116\n"
     ]
    }
   ],
   "source": [
    "# Dataset 3: InjuryRecord RF and Cross-Validation\n",
    "\n",
    "y_injury_record = df_injury['Surface']\n",
    "X_injury_record = df_injury.drop('Surface', axis=1)\n",
    "\n",
    "X_injury_record = pd.get_dummies(X_injury_record, drop_first=True)\n",
    "\n",
    "X_train_injury, X_test_injury, y_train_injury, y_test_injury = train_test_split(X_injury_record, y_injury_record, test_size=0.2, random_state=42)\n",
    "\n",
    "rf_injury = RandomForestClassifier(random_state=42)\n",
    "cv_scores_injury = cross_val_score(rf_injury, X_injury_record, y_injury_record, cv=5, scoring='accuracy')\n",
    "print(\"Cross-validation scores:\", cv_scores_injury)\n",
    "print(\"Mean accuracy:\", cv_scores_injury.mean())\n",
    "print(\"Standard deviation of accuracy:\", cv_scores_injury.std())\n"
   ]
  },
  {
   "cell_type": "code",
   "execution_count": 64,
   "id": "fc90e435",
   "metadata": {},
   "outputs": [
    {
     "name": "stdout",
     "output_type": "stream",
     "text": [
      "Best hyperparameters: {'max_depth': None, 'min_samples_leaf': 2, 'min_samples_split': 2, 'n_estimators': 50}\n"
     ]
    }
   ],
   "source": [
    "# Dataset 3: InjuryRecord Hyperparameter Tuning\n",
    "\n",
    "param_grid = {\n",
    "    'n_estimators': [50, 100, 150],\n",
    "    'max_depth': [None, 10, 20, 30],\n",
    "    'min_samples_split': [2, 5, 10],\n",
    "    'min_samples_leaf': [1, 2, 4]\n",
    "}\n",
    "\n",
    "rf_injury = RandomForestClassifier(random_state=42)\n",
    "\n",
    "grid_search_injury = GridSearchCV(rf_injury, param_grid, cv=5, scoring='accuracy')\n",
    "\n",
    "grid_search_injury.fit(X_train_injury, y_train_injury)\n",
    "\n",
    "print(\"Best hyperparameters:\", grid_search_injury.best_params_)\n",
    "\n",
    "\n"
   ]
  },
  {
   "cell_type": "code",
   "execution_count": 65,
   "id": "c621408e",
   "metadata": {},
   "outputs": [
    {
     "name": "stdout",
     "output_type": "stream",
     "text": [
      "Test Accuracy: 0.5714285714285714\n"
     ]
    }
   ],
   "source": [
    "# Dataset 3: InjuryRecord Performance Evaluation\n",
    "\n",
    "best_rf_injury = grid_search_injury.best_estimator_\n",
    "y_pred_injury = best_rf_injury.predict(X_test_injury)\n",
    "\n",
    "from sklearn.metrics import accuracy_score\n",
    "print(\"Test Accuracy:\", accuracy_score(y_test_injury, y_pred_injury))"
   ]
  },
  {
   "cell_type": "markdown",
   "id": "f64bd3e8-0fbb-4e75-bd4b-6fc8d195fe15",
   "metadata": {},
   "source": [
    "# 4. Storytelling With Data plot"
   ]
  },
  {
   "cell_type": "markdown",
   "id": "551a6ca9-6bba-4e0e-89a1-38008ad50823",
   "metadata": {},
   "source": [
    "Reproduce any graph of your choice in chapter seven (p. 165-185) of the Storytelling With Data book as best you can. You do not have to get the exact data values right, just the overall look and feel."
   ]
  },
  {
   "cell_type": "code",
   "execution_count": 66,
   "id": "1df59248",
   "metadata": {},
   "outputs": [
    {
     "data": {
      "image/png": "[encoded data removed]",
      "text/plain": [
       "<Figure size 1000x600 with 1 Axes>"
      ]
     },
     "metadata": {},
     "output_type": "display_data"
    }
   ],
   "source": [
    "years = ['2008', '2009', '2010', '2011', '2012', '2013', '2014']\n",
    "products = ['Product A', 'Product B', 'Product C', 'Product D', 'Product E']\n",
    "data = {\n",
    "    '2008': [400, 360, 0, 0, 0],\n",
    "    '2009': [420, 400, 0, 0, 0],\n",
    "    '2010': [430, 410, 100, 0, 0],\n",
    "    '2011': [390, 370, 180, 150, 0],\n",
    "    '2012': [300, 290, 200, 270, 0],\n",
    "    '2013': [280, 260, 240, 220, 100],\n",
    "    '2014': [270, 250, 180, 210, 210]\n",
    "}\n",
    "\n",
    "bar_width = 0.1\n",
    "x = np.arange(len(products))\n",
    "\n",
    "fig, ax = plt.subplots(figsize=(10, 6))\n",
    "\n",
    "colors = ['blue', 'darkred', 'limegreen', 'purple', 'cyan', 'darkorange', 'dodgerblue']\n",
    "\n",
    "for i, year in enumerate(years):\n",
    "    prices = data[year]\n",
    "    ax.bar(x + i * bar_width, prices, width=bar_width, label=year, color=colors[i])\n",
    "\n",
    "ax.set_xticks(x + bar_width * 3)\n",
    "ax.set_xticklabels(products)\n",
    "\n",
    "ax.text(0.5, 500, 'Average Retail Product Price Per Year',\n",
    "        fontsize=14, fontweight='bold', ha='left', transform=ax.transData)\n",
    "\n",
    "\n",
    "ax.legend(loc='upper center', bbox_to_anchor=(0.5, -0.15),\n",
    "          ncol=7, frameon=False)\n",
    "\n",
    "plt.ylim(0, 520)  \n",
    "plt.tight_layout()\n",
    "plt.show()\n"
   ]
  }
 ],
 "metadata": {
  "kernelspec": {
   "display_name": "Python 3",
   "language": "python",
   "name": "python3"
  },
  "language_info": {
   "codemirror_mode": {
    "name": "ipython",
    "version": 3
   },
   "file_extension": ".py",
   "mimetype": "text/x-python",
   "name": "python",
   "nbconvert_exporter": "python",
   "pygments_lexer": "ipython3",
   "version": "3.12.1"
  }
 },
 "nbformat": 4,
 "nbformat_minor": 5
}
