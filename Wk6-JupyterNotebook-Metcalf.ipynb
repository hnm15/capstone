{
 "cells": [
  {
   "cell_type": "markdown",
   "metadata": {},
   "source": [
    "## DX799S O1 Data Science Capstone (Summer 1 2025): ACTIVITY 6.3 ##"
   ]
  },
  {
   "cell_type": "markdown",
   "metadata": {},
   "source": [
    "Each week, you will apply the concepts of that week to your Integrated Capstone Project’s dataset. In preparation for Milestone One, create a Jupyter Notebook (similar to in Module B, Semester Two) that illustrates these lessons. There are no specific questions to answer in your Jupyter Notebook files in this course; your general goal is to analyze your data using the methods you have learned about in this course and in this program and draw interesting conclusions. \n",
    "\n",
    "For Week 6, include concepts such as decision trees and random forests. Complete your Jupyter Notebook homework by 11:59pm ET on Sunday. \n",
    "\n",
    "In Week 7, you will compile your findings from your Jupyter Notebook homework into your Milestone One assignment for grading. For full instructions and the rubric for Milestone One, refer to the following link. "
   ]
  },
  {
   "cell_type": "markdown",
   "metadata": {},
   "source": [
    "The following dataset, \"Video Review\", is a collection of information that was created based on reviewable video evidence that outlines the events that resulted in a concussion during punt players in the NFL 2016-2017 season. The target, Primary_Impact_Type, outlines if the concussion occurred from the impact of Helmet-to-Helmet, Helmet-to-Body, or Helmet-to-Ground."
   ]
  },
  {
   "cell_type": "code",
   "execution_count": 76,
   "metadata": {},
   "outputs": [],
   "source": [
    "from sklearn.tree import DecisionTreeRegressor\n",
    "from sklearn.ensemble import RandomForestClassifier\n",
    "from sklearn.preprocessing import StandardScaler\n",
    "from sklearn.preprocessing import LabelEncoder\n",
    "import pandas as pd\n",
    "from sklearn.model_selection import cross_val_score\n",
    "import numpy as np\n",
    "from sklearn.model_selection import (\n",
    "    train_test_split, \n",
    "    cross_val_score, \n",
    "    GridSearchCV, \n",
    "    RandomizedSearchCV, \n",
    "    RepeatedKFold\n",
    ")"
   ]
  },
  {
   "cell_type": "code",
   "execution_count": 77,
   "metadata": {},
   "outputs": [],
   "source": [
    "repeated_cv = RepeatedStratifiedKFold(n_splits=5, n_repeats=5, random_state=42)"
   ]
  },
  {
   "cell_type": "code",
   "execution_count": 78,
   "metadata": {},
   "outputs": [
    {
     "name": "stdout",
     "output_type": "stream",
     "text": [
      "Mean CV Accuracy (Video Review): 42.93%\n",
      "Std. Dev. CV Accuracy Video Review: 16.69%\n",
      "Train Accuracy Video Review: 72.41%\n"
     ]
    },
    {
     "name": "stderr",
     "output_type": "stream",
     "text": [
      "/home/codespace/.local/lib/python3.12/site-packages/sklearn/model_selection/_split.py:805: UserWarning: The least populated class in y has only 1 members, which is less than n_splits=5.\n",
      "  warnings.warn(\n",
      "/home/codespace/.local/lib/python3.12/site-packages/sklearn/model_selection/_split.py:805: UserWarning: The least populated class in y has only 1 members, which is less than n_splits=5.\n",
      "  warnings.warn(\n",
      "/home/codespace/.local/lib/python3.12/site-packages/sklearn/model_selection/_split.py:805: UserWarning: The least populated class in y has only 1 members, which is less than n_splits=5.\n",
      "  warnings.warn(\n",
      "/home/codespace/.local/lib/python3.12/site-packages/sklearn/model_selection/_split.py:805: UserWarning: The least populated class in y has only 1 members, which is less than n_splits=5.\n",
      "  warnings.warn(\n",
      "/home/codespace/.local/lib/python3.12/site-packages/sklearn/model_selection/_split.py:805: UserWarning: The least populated class in y has only 1 members, which is less than n_splits=5.\n",
      "  warnings.warn(\n"
     ]
    }
   ],
   "source": [
    "df_videoreview = pd.read_csv(\"video_review.csv\")\n",
    "\n",
    "label_encoder = LabelEncoder()\n",
    "for col in df_videoreview.select_dtypes(include=['object']).columns:\n",
    "    df_videoreview[col] = label_encoder.fit_transform(df_videoreview[col].astype(str))\n",
    "\n",
    "target_column = 'Primary_Impact_Type'\n",
    "X = df_videoreview.drop(columns=[target_column])\n",
    "y = df_videoreview[target_column]\n",
    "\n",
    "X_train, X_test, y_train, y_test = train_test_split(X, y, test_size=0.2, random_state=42)\n",
    "\n",
    "scaler = StandardScaler()\n",
    "X_train_scaled = scaler.fit_transform(X_train)\n",
    "\n",
    "dt_classifier = DecisionTreeClassifier(\n",
    "    max_depth=5,\n",
    "    min_samples_split=10,\n",
    "    min_samples_leaf=5,\n",
    "    random_state=42\n",
    ")\n",
    "\n",
    "cv_scores = cross_val_score(dt_classifier, X_train_scaled, y_train, cv=repeated_cv, scoring='accuracy')\n",
    "mean_accuracy = np.mean(cv_scores)\n",
    "std_accuracy = np.std(cv_scores)\n",
    "\n",
    "dt_classifier.fit(X_train_scaled, y_train)\n",
    "train_acc = dt_classifier.score(X_train_scaled, y_train)\n",
    "\n",
    "print(f\"Mean CV Accuracy (Video Review): {mean_accuracy:.2%}\")\n",
    "print(f\"Std. Dev. CV Accuracy Video Review: {std_accuracy:.2%}\")\n",
    "print(f\"Train Accuracy Video Review: {train_acc:.2%}\")\n"
   ]
  },
  {
   "cell_type": "code",
   "execution_count": 79,
   "metadata": {},
   "outputs": [
    {
     "name": "stderr",
     "output_type": "stream",
     "text": [
      "/home/codespace/.local/lib/python3.12/site-packages/sklearn/model_selection/_split.py:805: UserWarning: The least populated class in y has only 1 members, which is less than n_splits=5.\n",
      "  warnings.warn(\n"
     ]
    },
    {
     "name": "stderr",
     "output_type": "stream",
     "text": [
      "/home/codespace/.local/lib/python3.12/site-packages/sklearn/model_selection/_split.py:805: UserWarning: The least populated class in y has only 1 members, which is less than n_splits=5.\n",
      "  warnings.warn(\n",
      "/home/codespace/.local/lib/python3.12/site-packages/sklearn/model_selection/_split.py:805: UserWarning: The least populated class in y has only 1 members, which is less than n_splits=5.\n",
      "  warnings.warn(\n",
      "/home/codespace/.local/lib/python3.12/site-packages/sklearn/model_selection/_split.py:805: UserWarning: The least populated class in y has only 1 members, which is less than n_splits=5.\n",
      "  warnings.warn(\n",
      "/home/codespace/.local/lib/python3.12/site-packages/sklearn/model_selection/_split.py:805: UserWarning: The least populated class in y has only 1 members, which is less than n_splits=5.\n",
      "  warnings.warn(\n"
     ]
    },
    {
     "name": "stdout",
     "output_type": "stream",
     "text": [
      "Random Forest CV Accuracy Video Review: 45.47%\n",
      "Random Forest CV Std. Dev. Video Review: 16.94%\n",
      "Random Forest Train Accuracy Video Review: 72.41%\n"
     ]
    }
   ],
   "source": [
    "#Video Review Dataset with Random Forest \n",
    "\n",
    "rf_classifier = RandomForestClassifier(\n",
    "    n_estimators=100,         \n",
    "    max_depth=5,              \n",
    "    min_samples_split=10,     \n",
    "    min_samples_leaf=5,       \n",
    "    random_state=42,\n",
    "    class_weight='balanced'   \n",
    ")\n",
    "\n",
    "rf_cv_scores = cross_val_score(rf_classifier, X_train_scaled, y_train, cv=repeated_cv, scoring='accuracy')\n",
    "rf_mean_accuracy = np.mean(rf_cv_scores)\n",
    "rf_std_accuracy = np.std(rf_cv_scores)\n",
    "\n",
    "rf_classifier.fit(X_train_scaled, y_train)\n",
    "rf_train_acc = rf_classifier.score(X_train_scaled, y_train)\n",
    "\n",
    "print(f\"Random Forest CV Accuracy Video Review: {rf_mean_accuracy:.2%}\")\n",
    "print(f\"Random Forest CV Std. Dev. Video Review: {rf_std_accuracy:.2%}\")\n",
    "print(f\"Random Forest Train Accuracy Video Review: {rf_train_acc:.2%}\")\n"
   ]
  },
  {
   "cell_type": "markdown",
   "metadata": {},
   "source": [
    "The next dataset, Injury Record, looks to determine the relationship between the playing surface and the injury and performance of NFL athletes. The Injury Record dataset accounts for 105 lower-limbs injuries that occurred over two seasons during the regular NFL season and provides information on the surface the game occurred on and the number of days the player missed due to injury (or how severe it was). The target in this case is surface which lists the type of surface (synethic or natural) the field was when the injury occurred."
   ]
  },
  {
   "cell_type": "code",
   "execution_count": 80,
   "metadata": {},
   "outputs": [],
   "source": [
    "df_injuryrecord = pd.read_csv(\"InjuryRecord.csv\")"
   ]
  },
  {
   "cell_type": "code",
   "execution_count": 81,
   "metadata": {},
   "outputs": [
    {
     "name": "stdout",
     "output_type": "stream",
     "text": [
      "Mean CV Accuracy (Injury Record): 42.40%\n",
      "Std. Dev. CV Accuracy Injury Record: 8.94%\n",
      "Train Accuracy Injury Record: 67.86%\n"
     ]
    }
   ],
   "source": [
    "#Injury Record Dataset with Decision Tree \n",
    "\n",
    "label_encoder = LabelEncoder()\n",
    "\n",
    "for col in df_injuryrecord.select_dtypes(include=['object']).columns:\n",
    "    df_injuryrecord[col] = label_encoder.fit_transform(df_injuryrecord[col].astype(str))\n",
    "\n",
    "target_column = 'Surface'  \n",
    "X_injury = df_injuryrecord.drop(columns=[target_column])\n",
    "y_injury = df_injuryrecord[target_column]\n",
    "\n",
    "X_train, X_test, y_train, y_test = train_test_split(X_injury, y_injury, test_size=0.2, random_state=42)\n",
    "\n",
    "scaler = StandardScaler()\n",
    "X_train_scaled = scaler.fit_transform(X_train)\n",
    "\n",
    "dt_classifier_injury = DecisionTreeClassifier(\n",
    "    max_depth=5,\n",
    "    min_samples_split=10,\n",
    "    min_samples_leaf=5,\n",
    "    random_state=42\n",
    ")\n",
    "\n",
    "cv_scores_injury = cross_val_score(dt_classifier_injury, X_train_scaled, y_train, cv=repeated_cv, scoring='accuracy')\n",
    "mean_accuracy_injury = np.mean(cv_scores_injury)\n",
    "std_accuracy_injury = np.std(cv_scores_injury)\n",
    "\n",
    "dt_classifier_injury.fit(X_train_scaled, y_train)\n",
    "train_acc_injury = dt_classifier_injury.score(X_train_scaled, y_train)\n",
    "\n",
    "print(f\"Mean CV Accuracy (Injury Record): {mean_accuracy_injury:.2%}\")\n",
    "print(f\"Std. Dev. CV Accuracy Injury Record: {std_accuracy_injury:.2%}\")\n",
    "print(f\"Train Accuracy Injury Record: {train_acc_injury:.2%}\")\n"
   ]
  },
  {
   "cell_type": "code",
   "execution_count": 82,
   "metadata": {},
   "outputs": [
    {
     "name": "stdout",
     "output_type": "stream",
     "text": [
      "Random Forest CV Accuracy Injury Record: 40.26%\n",
      "Random Forest CV Std. Dev. Injury Record: 9.18%\n",
      "Random Forest Train Accuracy Injury Record: 75.00%\n"
     ]
    }
   ],
   "source": [
    "#Injury Record Dataset with Random Forest\n",
    "\n",
    "rf_classifier_injury = RandomForestClassifier(\n",
    "    n_estimators=100,         \n",
    "    max_depth=5,              \n",
    "    min_samples_split=10,     \n",
    "    min_samples_leaf=5,       \n",
    "    random_state=42,\n",
    "    class_weight='balanced'   \n",
    ")\n",
    "\n",
    "rf_cv_scores_injury = cross_val_score(rf_classifier, X_train_scaled, y_train, cv=repeated_cv, scoring='accuracy')\n",
    "rf_mean_accuracy_injury = np.mean(rf_cv_scores_injury)\n",
    "rf_std_accuracy_injury = np.std(rf_cv_scores_injury)\n",
    "\n",
    "rf_classifier_injury.fit(X_train_scaled, y_train)\n",
    "rf_train_acc_injury = rf_classifier_injury.score(X_train_scaled, y_train)\n",
    "\n",
    "print(f\"Random Forest CV Accuracy Injury Record: {rf_mean_accuracy_injury:.2%}\")\n",
    "print(f\"Random Forest CV Std. Dev. Injury Record: {rf_std_accuracy_injury:.2%}\")\n",
    "print(f\"Random Forest Train Accuracy Injury Record: {rf_train_acc_injury:.2%}\")\n"
   ]
  },
  {
   "cell_type": "markdown",
   "metadata": {},
   "source": [
    "The last dataset, PlayList, \"contains information about each player-play in the dataset, to include the player’s assigned roster position, stadium type, field type, weather, play type, position for the play, and position group\". This dataset was provided with the injury_record dataset so it provides additional information regarding the environment when a player's lower body injury occurred during these two NFL seasons. The target in this case will be \"PlayType\" which can include kickoff, run, pass, etc."
   ]
  },
  {
   "cell_type": "code",
   "execution_count": 83,
   "metadata": {},
   "outputs": [
    {
     "name": "stdout",
     "output_type": "stream",
     "text": [
      "Mean CV Accuracy (Playlist): 52.20%\n",
      "Std. Dev. CV Accuracy Playlist: 0.08%\n",
      "Train Accuracy Playlist: 52.26%\n"
     ]
    }
   ],
   "source": [
    "#Playlist Dataset with Decision Tree\n",
    "\n",
    "df_playlist = pd.read_csv(\"PlayList.csv\")\n",
    "\n",
    "label_encoder = LabelEncoder()\n",
    "\n",
    "for col in df_playlist.select_dtypes(include=['object']).columns:\n",
    "    df_playlist[col] = label_encoder.fit_transform(df_playlist[col].astype(str))\n",
    "\n",
    "\n",
    "target_column = 'PlayType'  \n",
    "X_playlist = df_playlist.drop(columns=[target_column])\n",
    "y_playlist = df_playlist[target_column]\n",
    "\n",
    "X_train, X_test, y_train, y_test = train_test_split(X_playlist, y_playlist, test_size=0.2, random_state=42)\n",
    "\n",
    "scaler = StandardScaler()\n",
    "X_train_scaled = scaler.fit_transform(X_train)\n",
    "\n",
    "dt_classifier_playlist = DecisionTreeClassifier(\n",
    "    max_depth=5,\n",
    "    min_samples_split=10,\n",
    "    min_samples_leaf=5,\n",
    "    random_state=42\n",
    ")\n",
    "\n",
    "cv_scores_playlist = cross_val_score(dt_classifier_playlist, X_train_scaled, y_train, cv=repeated_cv, scoring='accuracy')\n",
    "mean_accuracy_playlist = np.mean(cv_scores_playlist)\n",
    "std_accuracy_playlist= np.std(cv_scores_playlist)\n",
    "\n",
    "dt_classifier_playlist.fit(X_train_scaled, y_train)\n",
    "train_acc_playlist = dt_classifier_playlist.score(X_train_scaled, y_train)\n",
    "\n",
    "print(f\"Mean CV Accuracy (Playlist): {mean_accuracy_playlist:.2%}\")\n",
    "print(f\"Std. Dev. CV Accuracy Playlist: {std_accuracy_playlist:.2%}\")\n",
    "print(f\"Train Accuracy Playlist: {train_acc_playlist:.2%}\")"
   ]
  },
  {
   "cell_type": "code",
   "execution_count": 84,
   "metadata": {},
   "outputs": [
    {
     "name": "stdout",
     "output_type": "stream",
     "text": [
      "Random Forest CV Accuracy Playlist: 3.60%\n",
      "Random Forest CV Std. Dev. Playlist: 0.12%\n",
      "Random Forest Train Accuracy Playlist: 3.82%\n"
     ]
    }
   ],
   "source": [
    "#Playlist Dataset with Random Forest\n",
    "\n",
    "rf_classifier_playlist = RandomForestClassifier(\n",
    "    n_estimators=100,         \n",
    "    max_depth=5,              \n",
    "    min_samples_split=10,     \n",
    "    min_samples_leaf=5,       \n",
    "    random_state=42,\n",
    "    class_weight='balanced'   \n",
    ")\n",
    "\n",
    "rf_cv_scores_playlist = cross_val_score(rf_classifier, X_train_scaled, y_train, cv=repeated_cv, scoring='accuracy')\n",
    "rf_mean_accuracy_playlist = np.mean(rf_cv_scores_playlist)\n",
    "rf_std_accuracy_playlist = np.std(rf_cv_scores_playlist)\n",
    "\n",
    "rf_classifier_playlist.fit(X_train_scaled, y_train)\n",
    "rf_train_acc_playlist = rf_classifier_playlist.score(X_train_scaled, y_train)\n",
    "\n",
    "print(f\"Random Forest CV Accuracy Playlist: {rf_mean_accuracy_playlist:.2%}\")\n",
    "print(f\"Random Forest CV Std. Dev. Playlist: {rf_std_accuracy_playlist:.2%}\")\n",
    "print(f\"Random Forest Train Accuracy Playlist: {rf_train_acc_playlist:.2%}\")"
   ]
  }
 ],
 "metadata": {
  "kernelspec": {
   "display_name": "Python 3",
   "language": "python",
   "name": "python3"
  },
  "language_info": {
   "codemirror_mode": {
    "name": "ipython",
    "version": 3
   },
   "file_extension": ".py",
   "mimetype": "text/x-python",
   "name": "python",
   "nbconvert_exporter": "python",
   "pygments_lexer": "ipython3",
   "version": "3.12.1"
  }
 },
 "nbformat": 4,
 "nbformat_minor": 4
}
