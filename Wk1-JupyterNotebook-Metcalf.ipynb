{
 "cells": [
  {
   "cell_type": "markdown",
   "metadata": {},
   "source": [
    "## DX799S O1 Data Science Capstone (Summer 1 2025): ACTIVITY 1.2 ##"
   ]
  },
  {
   "cell_type": "markdown",
   "metadata": {},
   "source": [
    "Each week, you will apply the concepts of that week to your Integrated Capstone Project’s dataset. In preparation for Milestone One, create a Jupyter Notebook (similar to in Module B, semester two) that illustrates these lessons. There are no specific questions to answer in your Jupyter Notebook files in this course; your general goal is to analyze your data, using the methods you have learned about in this course and in this program, and draw interesting conclusions. \n",
    "\n",
    "For Week 1, include concepts such as linear regression with polynomial terms, interaction terms, multicollinearity, variance inflation factor and regression, and categorical and continuous features. Complete your Jupyter Notebook homework by 11:59 pm ET on Sunday. \n",
    "\n",
    "In Week 7, you will compile your findings from your Jupyter Notebook homework into your Milestone One assignment for grading. For full instructions and the rubric for Milestone One, refer to the following link. "
   ]
  },
  {
   "cell_type": "code",
   "execution_count": 89,
   "metadata": {},
   "outputs": [],
   "source": [
    "# ===================================\n",
    "# Useful Imports: Add more as needed\n",
    "# ===================================\n",
    "\n",
    "# Standard Libraries\n",
    "import os\n",
    "import time\n",
    "import math\n",
    "import io\n",
    "import zipfile\n",
    "import requests\n",
    "from urllib.parse import urlparse\n",
    "from itertools import chain, combinations\n",
    "\n",
    "# Data Science Libraries\n",
    "import numpy as np\n",
    "import pandas as pd\n",
    "import seaborn as sns\n",
    "\n",
    "# Visualization\n",
    "import matplotlib.pyplot as plt\n",
    "import matplotlib.patches as patches\n",
    "import matplotlib.ticker as mticker  # Optional: Format y-axis labels as dollars\n",
    "import seaborn as sns\n",
    "\n",
    "# Scikit-learn (Machine Learning)\n",
    "from sklearn.model_selection import (\n",
    "    train_test_split, \n",
    "    cross_val_score, \n",
    "    GridSearchCV, \n",
    "    RandomizedSearchCV, \n",
    "    RepeatedKFold\n",
    ")\n",
    "from sklearn.preprocessing import StandardScaler, OrdinalEncoder\n",
    "from sklearn.impute import SimpleImputer\n",
    "from sklearn.metrics import mean_squared_error\n",
    "from sklearn.feature_selection import SequentialFeatureSelector, f_regression, SelectKBest\n",
    "from sklearn.linear_model import LinearRegression, Ridge, Lasso, ElasticNet\n",
    "\n",
    "import pandas as pd\n",
    "from sklearn.model_selection import train_test_split\n",
    "from sklearn.preprocessing import StandardScaler, LabelEncoder, PolynomialFeatures\n",
    "from sklearn.metrics import mean_squared_error, r2_score\n",
    "\n"
   ]
  },
  {
   "cell_type": "markdown",
   "metadata": {},
   "source": [
    "The following dataset, \"Video Review\", is a collection of information that was created based on reviewable video evidence that outlines the events that resulted in a concussion during punt players in the NFL 2016-2017 season. The target, Primary_Impact_Type, outlines if the concussion occurred from the impact of Helmet-to-Helmet, Helmet-to-Body, or Helmet-to-Ground."
   ]
  },
  {
   "cell_type": "code",
   "execution_count": 90,
   "metadata": {},
   "outputs": [
    {
     "name": "stdout",
     "output_type": "stream",
     "text": [
      "Object columns before encoding:\n",
      "Index(['Player_Activity_Derived', 'Turnover_Related', 'Primary_Impact_Type',\n",
      "       'Primary_Partner_GSISID', 'Primary_Partner_Activity_Derived',\n",
      "       'Friendly_Fire'],\n",
      "      dtype='object')\n"
     ]
    }
   ],
   "source": [
    "#Video Review Dataset \n",
    "\n",
    "df_videoreview = pd.read_csv(\"video_review.csv\")\n",
    "\n",
    "label_encoder = LabelEncoder()\n",
    "\n",
    "print(\"Object columns before encoding:\")\n",
    "print(df_videoreview.select_dtypes(include=['object']).columns)\n",
    "\n",
    "for col in df_videoreview.select_dtypes(include=['object']).columns:\n",
    "    df_videoreview[col] = label_encoder.fit_transform(df_videoreview[col].astype(str))\n",
    "\n",
    "\n",
    "target_column = 'Primary_Impact_Type'  \n",
    "X = df_videoreview.drop(columns=[target_column])\n",
    "y = df_videoreview[target_column]\n",
    "\n",
    "X_train, X_test, y_train, y_test = train_test_split(X, y, test_size=0.2, random_state=42)\n",
    "\n",
    "scaler = StandardScaler()\n",
    "X_train_scaled = scaler.fit_transform(X_train)\n",
    "X_test_scaled = scaler.transform(X_test)\n",
    "\n"
   ]
  },
  {
   "cell_type": "code",
   "execution_count": 91,
   "metadata": {},
   "outputs": [
    {
     "name": "stdout",
     "output_type": "stream",
     "text": [
      "MSE Video Review: 0.7820389432809272\n",
      "R² Video Review: 0.2676004996667486\n"
     ]
    }
   ],
   "source": [
    "#Video Review linear regression with categorical and continuous features\n",
    "\n",
    "model = LinearRegression()\n",
    "model.fit(X_train_scaled, y_train)\n",
    "\n",
    "y_pred_train = model.predict(X_train_scaled)\n",
    "\n",
    "from sklearn.metrics import mean_squared_error, r2_score\n",
    "print(\"MSE Video Review:\", mean_squared_error(y_train, y_pred_train))\n",
    "print(\"R² Video Review:\", r2_score(y_train, y_pred_train))\n"
   ]
  },
  {
   "cell_type": "code",
   "execution_count": 92,
   "metadata": {},
   "outputs": [
    {
     "name": "stdout",
     "output_type": "stream",
     "text": [
      "Mean Squared Error (MSE) of Video Review with Polynomial Terms: 1.0023973916342858e-29\n",
      "R² Score of Video Review with Polynomial Terms: 1.0\n"
     ]
    }
   ],
   "source": [
    "#Video Review linear regression with polynomial terms\n",
    "\n",
    "poly = PolynomialFeatures(degree=2, include_bias=False)\n",
    "X_train_poly = poly.fit_transform(X_train_scaled)\n",
    "X_test_poly = poly.transform(X_test_scaled)\n",
    "\n",
    "model = LinearRegression()\n",
    "model.fit(X_train_poly, y_train)\n",
    "\n",
    "y_train_pred = model.predict(X_train_poly)\n",
    "\n",
    "mse = mean_squared_error(y_train, y_train_pred)\n",
    "r2 = r2_score(y_train, y_train_pred)\n",
    "\n",
    "print(\"Mean Squared Error (MSE) of Video Review with Polynomial Terms:\", mse)\n",
    "print(\"R² Score of Video Review with Polynomial Terms:\", r2)"
   ]
  },
  {
   "cell_type": "code",
   "execution_count": 93,
   "metadata": {},
   "outputs": [
    {
     "name": "stdout",
     "output_type": "stream",
     "text": [
      "Mean Squared Error (MSE) Video Review with interaction terms: 1.520427386937825e-29\n",
      "R² Score Video Review with interaction terms: 1.0\n"
     ]
    }
   ],
   "source": [
    "#Video Review linear regression with interaction terms\n",
    "\n",
    "interaction = PolynomialFeatures(degree=2, include_bias=False, interaction_only=True)\n",
    "X_train_interact = interaction.fit_transform(X_train_scaled)\n",
    "\n",
    "model = LinearRegression()\n",
    "model.fit(X_train_interact, y_train)\n",
    "\n",
    "y_train_pred = model.predict(X_train_interact)\n",
    "\n",
    "mse_train = mean_squared_error(y_train, y_train_pred)\n",
    "r2_train = r2_score(y_train, y_train_pred)\n",
    "\n",
    "print(\"Mean Squared Error (MSE) Video Review with interaction terms:\", mse_train)\n",
    "print(\"R² Score Video Review with interaction terms:\", r2_train)\n"
   ]
  },
  {
   "cell_type": "code",
   "execution_count": 94,
   "metadata": {},
   "outputs": [
    {
     "name": "stdout",
     "output_type": "stream",
     "text": [
      "MSE Video Review with multicollinearity: 0.7820389432809272\n",
      "R² Video Review with multicollinearity: 0.2676004996667486\n",
      "Coefficients:\n",
      "                            Feature   Coefficient\n",
      "1                           GameKey  5.017196e-01\n",
      "0                       Season_Year -4.723777e-01\n",
      "4           Player_Activity_Derived -4.587435e-01\n",
      "8                     Friendly_Fire -4.444616e-01\n",
      "7  Primary_Partner_Activity_Derived  3.349750e-01\n",
      "3                            GSISID  2.988874e-01\n",
      "6            Primary_Partner_GSISID  1.899683e-01\n",
      "2                            PlayID -7.620664e-02\n",
      "5                  Turnover_Related  2.428613e-17\n"
     ]
    }
   ],
   "source": [
    "#Video Review linear regression with multicollinearity\n",
    "\n",
    "model = LinearRegression()\n",
    "model.fit(X_train_scaled, y_train)\n",
    "y_pred_train = model.predict(X_train_scaled)\n",
    "\n",
    "mse_train = mean_squared_error(y_train, y_pred_train)\n",
    "r2_train = r2_score(y_train, y_pred_train)\n",
    "\n",
    "print(\"MSE Video Review with multicollinearity:\", mse_train)\n",
    "print(\"R² Video Review with multicollinearity:\", r2_train)\n",
    "\n",
    "coef_df = pd.DataFrame({'Feature': X.columns, 'Coefficient': model.coef_})\n",
    "print(\"Coefficients:\")\n",
    "print(coef_df.sort_values(by='Coefficient', key=abs, ascending=False))\n"
   ]
  },
  {
   "cell_type": "code",
   "execution_count": 95,
   "metadata": {},
   "outputs": [
    {
     "name": "stdout",
     "output_type": "stream",
     "text": [
      "Requirement already satisfied: statsmodels in /usr/local/python/3.12.1/lib/python3.12/site-packages (0.14.4)\n",
      "Requirement already satisfied: numpy<3,>=1.22.3 in /home/codespace/.local/lib/python3.12/site-packages (from statsmodels) (2.2.4)\n",
      "Requirement already satisfied: scipy!=1.9.2,>=1.8 in /home/codespace/.local/lib/python3.12/site-packages (from statsmodels) (1.15.2)\n",
      "Requirement already satisfied: pandas!=2.1.0,>=1.4 in /home/codespace/.local/lib/python3.12/site-packages (from statsmodels) (2.2.3)\n",
      "Requirement already satisfied: patsy>=0.5.6 in /usr/local/python/3.12.1/lib/python3.12/site-packages (from statsmodels) (1.0.1)\n",
      "Requirement already satisfied: packaging>=21.3 in /home/codespace/.local/lib/python3.12/site-packages (from statsmodels) (24.2)\n",
      "Requirement already satisfied: python-dateutil>=2.8.2 in /home/codespace/.local/lib/python3.12/site-packages (from pandas!=2.1.0,>=1.4->statsmodels) (2.9.0.post0)\n",
      "Requirement already satisfied: pytz>=2020.1 in /home/codespace/.local/lib/python3.12/site-packages (from pandas!=2.1.0,>=1.4->statsmodels) (2025.1)\n",
      "Requirement already satisfied: tzdata>=2022.7 in /home/codespace/.local/lib/python3.12/site-packages (from pandas!=2.1.0,>=1.4->statsmodels) (2025.1)\n",
      "Requirement already satisfied: six>=1.5 in /home/codespace/.local/lib/python3.12/site-packages (from python-dateutil>=2.8.2->pandas!=2.1.0,>=1.4->statsmodels) (1.17.0)\n",
      "\n",
      "\u001b[1m[\u001b[0m\u001b[34;49mnotice\u001b[0m\u001b[1;39;49m]\u001b[0m\u001b[39;49m A new release of pip is available: \u001b[0m\u001b[31;49m25.0.1\u001b[0m\u001b[39;49m -> \u001b[0m\u001b[32;49m25.1.1\u001b[0m\n",
      "\u001b[1m[\u001b[0m\u001b[34;49mnotice\u001b[0m\u001b[1;39;49m]\u001b[0m\u001b[39;49m To update, run: \u001b[0m\u001b[32;49mpython3 -m pip install --upgrade pip\u001b[0m\n"
     ]
    }
   ],
   "source": [
    "!pip install statsmodels"
   ]
  },
  {
   "cell_type": "code",
   "execution_count": 96,
   "metadata": {},
   "outputs": [
    {
     "name": "stdout",
     "output_type": "stream",
     "text": [
      "Initial VIF values:\n",
      "                            feature       VIF\n",
      "0                       Season_Year  4.689585\n",
      "1                           GameKey  3.588601\n",
      "8                     Friendly_Fire  2.387368\n",
      "3                            GSISID  2.289465\n",
      "7  Primary_Partner_Activity_Derived  2.199185\n",
      "2                            PlayID  1.422762\n",
      "6            Primary_Partner_GSISID  1.415988\n",
      "4           Player_Activity_Derived  1.304255\n",
      "5                  Turnover_Related       NaN\n",
      "MSE of Video Review with VIF: 0.7820389432809272\n",
      "R² Video Review with VIF: 0.2676004996667486\n",
      "\n",
      "Coefficients (Reduced Model):\n",
      "                            Feature   Coefficient\n",
      "1                           GameKey  5.017196e-01\n",
      "0                       Season_Year -4.723777e-01\n",
      "4           Player_Activity_Derived -4.587435e-01\n",
      "8                     Friendly_Fire -4.444616e-01\n",
      "7  Primary_Partner_Activity_Derived  3.349750e-01\n",
      "3                            GSISID  2.988874e-01\n",
      "6            Primary_Partner_GSISID  1.899683e-01\n",
      "2                            PlayID -7.620664e-02\n",
      "5                  Turnover_Related  2.428613e-17\n"
     ]
    },
    {
     "name": "stderr",
     "output_type": "stream",
     "text": [
      "/usr/local/python/3.12.1/lib/python3.12/site-packages/statsmodels/regression/linear_model.py:1784: RuntimeWarning: invalid value encountered in scalar divide\n",
      "  return 1 - self.ssr/self.uncentered_tss\n"
     ]
    }
   ],
   "source": [
    "#Video Review linear regression with variance inflation factor and regression\n",
    "from statsmodels.stats.outliers_influence import variance_inflation_factor\n",
    "\n",
    "X_train_scaled_df = pd.DataFrame(X_train_scaled, columns=X_train.columns)\n",
    "\n",
    "def calculate_vif(X_df):\n",
    "    vif_data = pd.DataFrame()\n",
    "    vif_data[\"feature\"] = X_df.columns\n",
    "    vif_data[\"VIF\"] = [variance_inflation_factor(X_df.values, i) for i in range(X_df.shape[1])]\n",
    "    return vif_data\n",
    "\n",
    "vif_df = calculate_vif(X_train_scaled_df)\n",
    "print(\"Initial VIF values:\")\n",
    "print(vif_df.sort_values(by=\"VIF\", ascending=False))\n",
    "\n",
    "high_vif_features = vif_df[vif_df[\"VIF\"] > 10][\"feature\"].tolist()\n",
    "X_filtered = X_train_scaled_df.drop(columns=high_vif_features)\n",
    "\n",
    "\n",
    "model = LinearRegression()\n",
    "model.fit(X_filtered, y_train)\n",
    "y_pred_train = model.predict(X_filtered)\n",
    "\n",
    "mse = mean_squared_error(y_train, y_pred_train)\n",
    "r2 = r2_score(y_train, y_pred_train)\n",
    "\n",
    "print(\"MSE of Video Review with VIF:\", mse)\n",
    "print(\"R² Video Review with VIF:\", r2)\n",
    "\n",
    "coef_df = pd.DataFrame({'Feature': X_filtered.columns, 'Coefficient': model.coef_})\n",
    "print(\"\\nCoefficients (Reduced Model):\")\n",
    "print(coef_df.sort_values(by='Coefficient', key=abs, ascending=False))\n"
   ]
  },
  {
   "cell_type": "markdown",
   "metadata": {},
   "source": [
    "The next dataset, Injury Record, looks to determine the relationship between the playing surface and the injury and performance of NFL athletes. The Injury Record dataset accounts for 105 lower-limbs injuries that occurred over two seasons during the regular NFL season and provides information on the surface the game occurred on and the number of days the player missed due to injury (or how severe it was). The target in this case is surface which lists the type of surface (synethic or natural) the field was when the injury occurred."
   ]
  },
  {
   "cell_type": "code",
   "execution_count": 97,
   "metadata": {},
   "outputs": [],
   "source": [
    "df_injuryrecord = pd.read_csv(\"InjuryRecord.csv\")"
   ]
  },
  {
   "cell_type": "code",
   "execution_count": 98,
   "metadata": {},
   "outputs": [
    {
     "name": "stdout",
     "output_type": "stream",
     "text": [
      "Object columns before encoding:\n",
      "Index(['GameID', 'PlayKey', 'BodyPart', 'Surface'], dtype='object')\n"
     ]
    }
   ],
   "source": [
    "label_encoder = LabelEncoder()\n",
    "\n",
    "print(\"Object columns before encoding:\")\n",
    "print(df_injuryrecord.select_dtypes(include=['object']).columns)\n",
    "\n",
    "for col in df_injuryrecord.select_dtypes(include=['object']).columns:\n",
    "    df_injuryrecord[col] = label_encoder.fit_transform(df_injuryrecord[col].astype(str))\n",
    "\n",
    "\n",
    "target_column = 'Surface'  \n",
    "X_injury = df_injuryrecord.drop(columns=[target_column])\n",
    "y_injury = df_injuryrecord[target_column]\n",
    "\n",
    "X_train, X_test, y_train, y_test = train_test_split(X_injury, y_injury, test_size=0.2, random_state=42)\n",
    "\n",
    "scaler = StandardScaler()\n",
    "X_train_scaled = scaler.fit_transform(X_train)\n",
    "X_test_scaled = scaler.transform(X_test)"
   ]
  },
  {
   "cell_type": "code",
   "execution_count": 99,
   "metadata": {},
   "outputs": [
    {
     "name": "stdout",
     "output_type": "stream",
     "text": [
      "MSE Injury Record: 0.23365898721080608\n",
      "R² Injury Record: 0.06057104629091281\n"
     ]
    }
   ],
   "source": [
    "#Injury Record linear regression with categorical and continuous features\n",
    "\n",
    "model = LinearRegression()\n",
    "model.fit(X_train_scaled, y_train)\n",
    "\n",
    "y_pred_train = model.predict(X_train_scaled)\n",
    "\n",
    "from sklearn.metrics import mean_squared_error, r2_score\n",
    "print(\"MSE Injury Record:\", mean_squared_error(y_train, y_pred_train))\n",
    "print(\"R² Injury Record:\", r2_score(y_train, y_pred_train))\n"
   ]
  },
  {
   "cell_type": "code",
   "execution_count": 100,
   "metadata": {},
   "outputs": [
    {
     "name": "stdout",
     "output_type": "stream",
     "text": [
      "Mean Squared Error (MSE) of Injury Record with Polynomial Terms: 0.17576404897108824\n",
      "R² Score of Injury Record with Polynomial Terms: 0.29333838772649645\n"
     ]
    }
   ],
   "source": [
    "#Injury Record linear regression with polynomial terms\n",
    "poly = PolynomialFeatures(degree=2, include_bias=False)\n",
    "X_train_poly = poly.fit_transform(X_train_scaled)\n",
    "X_test_poly = poly.transform(X_test_scaled)\n",
    "\n",
    "model = LinearRegression()\n",
    "model.fit(X_train_poly, y_train)\n",
    "\n",
    "y_train_pred = model.predict(X_train_poly)\n",
    "\n",
    "mse = mean_squared_error(y_train, y_train_pred)\n",
    "r2 = r2_score(y_train, y_train_pred)\n",
    "\n",
    "print(\"Mean Squared Error (MSE) of Injury Record with Polynomial Terms:\", mse)\n",
    "print(\"R² Score of Injury Record with Polynomial Terms:\", r2)"
   ]
  },
  {
   "cell_type": "code",
   "execution_count": 101,
   "metadata": {},
   "outputs": [
    {
     "name": "stdout",
     "output_type": "stream",
     "text": [
      "Mean Squared Error (MSE) Injury Record with interaction terms: 0.19614996908772048\n",
      "R² Score Injury Record with interaction terms: 0.21137653453962624\n"
     ]
    }
   ],
   "source": [
    "#Injury Record linear regression with interaction terms\n",
    "\n",
    "interaction = PolynomialFeatures(degree=2, include_bias=False, interaction_only=True)\n",
    "X_train_interact = interaction.fit_transform(X_train_scaled)\n",
    "\n",
    "model = LinearRegression()\n",
    "model.fit(X_train_interact, y_train)\n",
    "\n",
    "y_train_pred = model.predict(X_train_interact)\n",
    "\n",
    "mse_train = mean_squared_error(y_train, y_train_pred)\n",
    "r2_train = r2_score(y_train, y_train_pred)\n",
    "\n",
    "print(\"Mean Squared Error (MSE) Injury Record with interaction terms:\", mse_train)\n",
    "print(\"R² Score Injury Record with interaction terms:\", r2_train)\n"
   ]
  },
  {
   "cell_type": "code",
   "execution_count": 102,
   "metadata": {},
   "outputs": [
    {
     "name": "stdout",
     "output_type": "stream",
     "text": [
      "MSE Injury Record with multicollinearity: 0.23365898721080608\n",
      "R² Injury Record with multicollinearity: 0.06057104629091281\n",
      "Coefficients:\n",
      "     Feature   Coefficient\n",
      "0  PlayerKey  2.895148e-01\n",
      "1     GameID -2.254470e-01\n",
      "6     DM_M28  1.380293e-01\n",
      "7     DM_M42 -9.425601e-02\n",
      "2    PlayKey  5.508942e-02\n",
      "3   BodyPart  2.208297e-03\n",
      "5      DM_M7 -3.225481e-04\n",
      "4      DM_M1  1.318390e-16\n"
     ]
    }
   ],
   "source": [
    "#Injury Record linear regression with multicollinearity\n",
    "\n",
    "model = LinearRegression()\n",
    "model.fit(X_train_scaled, y_train)\n",
    "\n",
    "y_pred_train = model.predict(X_train_scaled)\n",
    "\n",
    "mse_train = mean_squared_error(y_train, y_pred_train)\n",
    "r2_train = r2_score(y_train, y_pred_train)\n",
    "\n",
    "print(\"MSE Injury Record with multicollinearity:\", mse_train)\n",
    "print(\"R² Injury Record with multicollinearity:\", r2_train)\n",
    "\n",
    "X_train_scaled_df = pd.DataFrame(X_train_scaled, columns=X_train.columns)\n",
    "\n",
    "coef_df = pd.DataFrame({\n",
    "    'Feature': X_train_scaled_df.columns,\n",
    "    'Coefficient': model.coef_\n",
    "})\n",
    "\n",
    "print(\"Coefficients:\")\n",
    "print(coef_df.sort_values(by='Coefficient', key=abs, ascending=False))\n"
   ]
  },
  {
   "cell_type": "code",
   "execution_count": 103,
   "metadata": {},
   "outputs": [
    {
     "name": "stdout",
     "output_type": "stream",
     "text": [
      "Initial VIF values:\n",
      "     feature        VIF\n",
      "1     GameID  19.718543\n",
      "0  PlayerKey  17.941774\n",
      "6     DM_M28   3.368880\n",
      "7     DM_M42   3.080271\n",
      "2    PlayKey   1.553218\n",
      "5      DM_M7   1.431353\n",
      "3   BodyPart   1.063383\n",
      "4      DM_M1        NaN\n",
      "MSE of Injury Record with VIF: 0.24156478051584446\n",
      "R² Injury Record with VIF: 0.02878570295168159\n",
      "\n",
      "Coefficients (Reduced Model):\n",
      "    Feature   Coefficient\n",
      "4    DM_M28  1.147376e-01\n",
      "5    DM_M42 -7.608983e-02\n",
      "0   PlayKey  6.504045e-02\n",
      "1  BodyPart -2.066456e-03\n",
      "3     DM_M7  1.101684e-03\n",
      "2     DM_M1 -2.151057e-16\n"
     ]
    },
    {
     "name": "stderr",
     "output_type": "stream",
     "text": [
      "/usr/local/python/3.12.1/lib/python3.12/site-packages/statsmodels/regression/linear_model.py:1784: RuntimeWarning: invalid value encountered in scalar divide\n",
      "  return 1 - self.ssr/self.uncentered_tss\n"
     ]
    }
   ],
   "source": [
    "#Injury Record linear regression with variance inflation factor and regression\n",
    "X_train_scaled_df = pd.DataFrame(X_train_scaled, columns=X_train.columns)\n",
    "\n",
    "def calculate_vif(X_df):\n",
    "    vif_data = pd.DataFrame()\n",
    "    vif_data[\"feature\"] = X_df.columns\n",
    "    vif_data[\"VIF\"] = [variance_inflation_factor(X_df.values, i) for i in range(X_df.shape[1])]\n",
    "    return vif_data\n",
    "\n",
    "vif_df = calculate_vif(X_train_scaled_df)\n",
    "print(\"Initial VIF values:\")\n",
    "print(vif_df.sort_values(by=\"VIF\", ascending=False))\n",
    "\n",
    "high_vif_features = vif_df[vif_df[\"VIF\"] > 10][\"feature\"].tolist()\n",
    "X_filtered = X_train_scaled_df.drop(columns=high_vif_features)\n",
    "\n",
    "\n",
    "model = LinearRegression()\n",
    "model.fit(X_filtered, y_train)\n",
    "y_pred_train = model.predict(X_filtered)\n",
    "\n",
    "mse = mean_squared_error(y_train, y_pred_train)\n",
    "r2 = r2_score(y_train, y_pred_train)\n",
    "\n",
    "print(\"MSE of Injury Record with VIF:\", mse)\n",
    "print(\"R² Injury Record with VIF:\", r2)\n",
    "\n",
    "coef_df = pd.DataFrame({'Feature': X_filtered.columns, 'Coefficient': model.coef_})\n",
    "print(\"\\nCoefficients (Reduced Model):\")\n",
    "print(coef_df.sort_values(by='Coefficient', key=abs, ascending=False))"
   ]
  },
  {
   "cell_type": "markdown",
   "metadata": {},
   "source": [
    "The last dataset, PlayList, \"contains information about each player-play in the dataset, to include the player’s assigned roster position, stadium type, field type, weather, play type, position for the play, and position group\". This dataset was provided with the injury_record dataset so it provides additional information regarding the environment when a player's lower body injury occurred during these two NFL seasons. The target in this case will be \"PlayType\" which can include kickoff, run, pass, etc."
   ]
  },
  {
   "cell_type": "code",
   "execution_count": 104,
   "metadata": {},
   "outputs": [
    {
     "name": "stdout",
     "output_type": "stream",
     "text": [
      "Object columns before encoding:\n",
      "Index(['GameID', 'PlayKey', 'RosterPosition', 'StadiumType', 'FieldType',\n",
      "       'Weather', 'PlayType', 'Position', 'PositionGroup'],\n",
      "      dtype='object')\n"
     ]
    }
   ],
   "source": [
    "df_playlist = pd.read_csv(\"PlayList.csv\")\n",
    "\n",
    "label_encoder = LabelEncoder()\n",
    "\n",
    "print(\"Object columns before encoding:\")\n",
    "print(df_playlist.select_dtypes(include=['object']).columns)\n",
    "\n",
    "for col in df_playlist.select_dtypes(include=['object']).columns:\n",
    "    df_playlist[col] = label_encoder.fit_transform(df_playlist[col].astype(str))\n",
    "\n",
    "\n",
    "target_column = 'PlayType'  \n",
    "X_playlist = df_playlist.drop(columns=[target_column])\n",
    "y_playlist = df_playlist[target_column]\n",
    "\n",
    "X_train, X_test, y_train, y_test = train_test_split(X_playlist, y_playlist, test_size=0.2, random_state=42)\n",
    "\n",
    "scaler = StandardScaler()\n",
    "X_train_scaled = scaler.fit_transform(X_train)\n",
    "X_test_scaled = scaler.transform(X_test)\n"
   ]
  },
  {
   "cell_type": "code",
   "execution_count": 105,
   "metadata": {},
   "outputs": [
    {
     "name": "stdout",
     "output_type": "stream",
     "text": [
      "MSE Playlist: 5.505702647235538\n",
      "R² Playlist: 0.006451537032031829\n"
     ]
    }
   ],
   "source": [
    "#Playlist linear regression with categorical and continuous features\n",
    "model = LinearRegression()\n",
    "model.fit(X_train_scaled, y_train)\n",
    "\n",
    "y_pred_train = model.predict(X_train_scaled)\n",
    "\n",
    "from sklearn.metrics import mean_squared_error, r2_score\n",
    "print(\"MSE Playlist:\", mean_squared_error(y_train, y_pred_train))\n",
    "print(\"R² Playlist:\", r2_score(y_train, y_pred_train))"
   ]
  },
  {
   "cell_type": "code",
   "execution_count": 106,
   "metadata": {},
   "outputs": [
    {
     "name": "stdout",
     "output_type": "stream",
     "text": [
      "Mean Squared Error (MSE) of Playlist with Polynomial Terms: 5.413207999571759\n",
      "R² Score of Playlist with Polynomial Terms: 0.023142942454236315\n"
     ]
    }
   ],
   "source": [
    "#Playlist linear regression with polynomial terms\n",
    "poly = PolynomialFeatures(degree=2, include_bias=False)\n",
    "X_train_poly = poly.fit_transform(X_train_scaled)\n",
    "X_test_poly = poly.transform(X_test_scaled)\n",
    "\n",
    "model = LinearRegression()\n",
    "model.fit(X_train_poly, y_train)\n",
    "\n",
    "y_train_pred = model.predict(X_train_poly)\n",
    "\n",
    "mse = mean_squared_error(y_train, y_train_pred)\n",
    "r2 = r2_score(y_train, y_train_pred)\n",
    "\n",
    "print(\"Mean Squared Error (MSE) of Playlist with Polynomial Terms:\", mse)\n",
    "print(\"R² Score of Playlist with Polynomial Terms:\", r2)"
   ]
  },
  {
   "cell_type": "code",
   "execution_count": 107,
   "metadata": {},
   "outputs": [
    {
     "name": "stdout",
     "output_type": "stream",
     "text": [
      "Mean Squared Error (MSE) Playlist with interaction terms: 5.455864671615669\n",
      "R² Score Playlist with interaction terms: 0.015445201827826716\n"
     ]
    }
   ],
   "source": [
    "#Playlist linear regression with interaction terms\n",
    "\n",
    "interaction = PolynomialFeatures(degree=2, include_bias=False, interaction_only=True)\n",
    "X_train_interact = interaction.fit_transform(X_train_scaled)\n",
    "\n",
    "model = LinearRegression()\n",
    "model.fit(X_train_interact, y_train)\n",
    "\n",
    "y_train_pred = model.predict(X_train_interact)\n",
    "\n",
    "mse_train = mean_squared_error(y_train, y_train_pred)\n",
    "r2_train = r2_score(y_train, y_train_pred)\n",
    "\n",
    "print(\"Mean Squared Error (MSE) Playlist with interaction terms:\", mse_train)\n",
    "print(\"R² Score Playlist with interaction terms:\", r2_train)"
   ]
  },
  {
   "cell_type": "code",
   "execution_count": 108,
   "metadata": {},
   "outputs": [
    {
     "name": "stdout",
     "output_type": "stream",
     "text": [
      "MSE Playlist with multicollinearity: 5.505702647235538\n",
      "R² Playlist with multicollinearity: 0.006451537032031829\n",
      "Coefficients:\n",
      "           Feature  Coefficient\n",
      "1           GameID    -0.555140\n",
      "2          PlayKey     0.487088\n",
      "5       PlayerGame     0.173335\n",
      "12   PositionGroup     0.136501\n",
      "4        PlayerDay    -0.106606\n",
      "10  PlayerGamePlay     0.058692\n",
      "9          Weather     0.036786\n",
      "11        Position    -0.035816\n",
      "0        PlayerKey    -0.033992\n",
      "3   RosterPosition    -0.027886\n",
      "6      StadiumType     0.027836\n",
      "7        FieldType     0.007573\n",
      "8      Temperature     0.005134\n"
     ]
    }
   ],
   "source": [
    "#Playlist linear regression with multicollinearity\n",
    "\n",
    "model = LinearRegression()\n",
    "model.fit(X_train_scaled, y_train)\n",
    "\n",
    "y_pred_train = model.predict(X_train_scaled)\n",
    "\n",
    "mse_train = mean_squared_error(y_train, y_pred_train)\n",
    "r2_train = r2_score(y_train, y_pred_train)\n",
    "\n",
    "print(\"MSE Playlist with multicollinearity:\", mse_train)\n",
    "print(\"R² Playlist with multicollinearity:\", r2_train)\n",
    "\n",
    "X_train_scaled_df = pd.DataFrame(X_train_scaled, columns=X_train.columns)\n",
    "\n",
    "coef_df = pd.DataFrame({\n",
    "    'Feature': X_train_scaled_df.columns,\n",
    "    'Coefficient': model.coef_\n",
    "})\n",
    "\n",
    "print(\"Coefficients:\")\n",
    "print(coef_df.sort_values(by='Coefficient', key=abs, ascending=False))\n"
   ]
  },
  {
   "cell_type": "code",
   "execution_count": 109,
   "metadata": {},
   "outputs": [
    {
     "name": "stdout",
     "output_type": "stream",
     "text": [
      "Initial VIF values:\n",
      "           feature         VIF\n",
      "1           GameID  755.349264\n",
      "2          PlayKey  743.588397\n",
      "0        PlayerKey    7.914023\n",
      "4        PlayerDay    4.720910\n",
      "5       PlayerGame    4.719784\n",
      "11        Position    2.369268\n",
      "3   RosterPosition    2.319514\n",
      "12   PositionGroup    2.291310\n",
      "8      Temperature    1.534066\n",
      "6      StadiumType    1.390744\n",
      "7        FieldType    1.093055\n",
      "9          Weather    1.054010\n",
      "10  PlayerGamePlay    1.014884\n",
      "MSE of Playlist with VIF: 5.506586558175416\n",
      "R² Playlist with VIF: 0.00629202817149499\n",
      "\n",
      "Coefficients (Reduced Model):\n",
      "           Feature  Coefficient\n",
      "3       PlayerGame     0.172313\n",
      "10   PositionGroup     0.133104\n",
      "2        PlayerDay    -0.102533\n",
      "0        PlayerKey    -0.098160\n",
      "8   PlayerGamePlay     0.061235\n",
      "7          Weather     0.037020\n",
      "9         Position    -0.035891\n",
      "4      StadiumType     0.029957\n",
      "1   RosterPosition    -0.029075\n",
      "5        FieldType     0.007005\n",
      "6      Temperature     0.004241\n"
     ]
    }
   ],
   "source": [
    "#Playlist linear regression with variance inflation factor and regression\n",
    "X_train_scaled_df = pd.DataFrame(X_train_scaled, columns=X_train.columns)\n",
    "\n",
    "def calculate_vif(X_df):\n",
    "    vif_data = pd.DataFrame()\n",
    "    vif_data[\"feature\"] = X_df.columns\n",
    "    vif_data[\"VIF\"] = [variance_inflation_factor(X_df.values, i) for i in range(X_df.shape[1])]\n",
    "    return vif_data\n",
    "\n",
    "vif_df = calculate_vif(X_train_scaled_df)\n",
    "print(\"Initial VIF values:\")\n",
    "print(vif_df.sort_values(by=\"VIF\", ascending=False))\n",
    "\n",
    "high_vif_features = vif_df[vif_df[\"VIF\"] > 10][\"feature\"].tolist()\n",
    "X_filtered = X_train_scaled_df.drop(columns=high_vif_features)\n",
    "\n",
    "\n",
    "model = LinearRegression()\n",
    "model.fit(X_filtered, y_train)\n",
    "y_pred_train = model.predict(X_filtered)\n",
    "\n",
    "mse = mean_squared_error(y_train, y_pred_train)\n",
    "r2 = r2_score(y_train, y_pred_train)\n",
    "\n",
    "print(\"MSE of Playlist with VIF:\", mse)\n",
    "print(\"R² Playlist with VIF:\", r2)\n",
    "\n",
    "coef_df = pd.DataFrame({'Feature': X_filtered.columns, 'Coefficient': model.coef_})\n",
    "print(\"\\nCoefficients (Reduced Model):\")\n",
    "print(coef_df.sort_values(by='Coefficient', key=abs, ascending=False))"
   ]
  }
 ],
 "metadata": {
  "kernelspec": {
   "display_name": "Python 3",
   "language": "python",
   "name": "python3"
  },
  "language_info": {
   "codemirror_mode": {
    "name": "ipython",
    "version": 3
   },
   "file_extension": ".py",
   "mimetype": "text/x-python",
   "name": "python",
   "nbconvert_exporter": "python",
   "pygments_lexer": "ipython3",
   "version": "3.12.1"
  }
 },
 "nbformat": 4,
 "nbformat_minor": 4
}
