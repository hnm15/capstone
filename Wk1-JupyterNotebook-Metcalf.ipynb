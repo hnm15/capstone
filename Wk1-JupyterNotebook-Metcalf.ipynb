{
 "cells": [
  {
   "cell_type": "markdown",
   "metadata": {},
   "source": [
    "## DX799S O1 Data Science Capstone (Summer 1 2025): ACTIVITY 1.2 ##"
   ]
  },
  {
   "cell_type": "markdown",
   "metadata": {},
   "source": [
    "Each week, you will apply the concepts of that week to your Integrated Capstone Project’s dataset. In preparation for Milestone One, create a Jupyter Notebook (similar to in Module B, semester two) that illustrates these lessons. There are no specific questions to answer in your Jupyter Notebook files in this course; your general goal is to analyze your data, using the methods you have learned about in this course and in this program, and draw interesting conclusions. \n",
    "\n",
    "For Week 1, include concepts such as linear regression with polynomial terms, interaction terms, multicollinearity, variance inflation factor and regression, and categorical and continuous features. Complete your Jupyter Notebook homework by 11:59 pm ET on Sunday. \n",
    "\n",
    "In Week 7, you will compile your findings from your Jupyter Notebook homework into your Milestone One assignment for grading. For full instructions and the rubric for Milestone One, refer to the following link. "
   ]
  },
  {
   "cell_type": "code",
   "execution_count": 43,
   "metadata": {},
   "outputs": [],
   "source": [
    "# ===================================\n",
    "# Useful Imports: Add more as needed\n",
    "# ===================================\n",
    "\n",
    "# Standard Libraries\n",
    "import os\n",
    "import time\n",
    "import math\n",
    "import io\n",
    "import zipfile\n",
    "import requests\n",
    "from urllib.parse import urlparse\n",
    "from itertools import chain, combinations\n",
    "\n",
    "# Data Science Libraries\n",
    "import numpy as np\n",
    "import pandas as pd\n",
    "import seaborn as sns\n",
    "\n",
    "# Visualization\n",
    "import matplotlib.pyplot as plt\n",
    "import matplotlib.patches as patches\n",
    "import matplotlib.ticker as mticker  # Optional: Format y-axis labels as dollars\n",
    "import seaborn as sns\n",
    "\n",
    "# Scikit-learn (Machine Learning)\n",
    "from sklearn.model_selection import (\n",
    "    train_test_split, \n",
    "    cross_val_score, \n",
    "    GridSearchCV, \n",
    "    RandomizedSearchCV, \n",
    "    RepeatedKFold\n",
    ")\n",
    "from sklearn.preprocessing import StandardScaler, OrdinalEncoder\n",
    "from sklearn.impute import SimpleImputer\n",
    "from sklearn.metrics import mean_squared_error\n",
    "from sklearn.feature_selection import SequentialFeatureSelector, f_regression, SelectKBest\n",
    "from sklearn.linear_model import LinearRegression, Ridge, Lasso, ElasticNet\n",
    "\n",
    "import pandas as pd\n",
    "from sklearn.model_selection import train_test_split\n",
    "from sklearn.preprocessing import StandardScaler, LabelEncoder, PolynomialFeatures\n",
    "from sklearn.metrics import mean_squared_error, r2_score\n",
    "\n"
   ]
  },
  {
   "cell_type": "markdown",
   "metadata": {},
   "source": [
    "The following dataset, \"Video Review\", is a collection of information that was created based on reviewable video evidence that outlines the events that resulted in a concussion during punt players in the NFL 2016-2017 season. The target, Primary_Impact_Type, outlines if the concussion occurred from the impact of Helmet-to-Helmet, Helmet-to-Body, or Helmet-to-Ground."
   ]
  },
  {
   "cell_type": "code",
   "execution_count": 44,
   "metadata": {},
   "outputs": [
    {
     "name": "stdout",
     "output_type": "stream",
     "text": [
      "Object columns before encoding:\n",
      "Index(['Player_Activity_Derived', 'Turnover_Related', 'Primary_Impact_Type',\n",
      "       'Primary_Partner_GSISID', 'Primary_Partner_Activity_Derived',\n",
      "       'Friendly_Fire'],\n",
      "      dtype='object')\n"
     ]
    }
   ],
   "source": [
    "#Video Review Dataset \n",
    "\n",
    "df_videoreview = pd.read_csv(\"video_review.csv\")\n",
    "\n",
    "label_encoder = LabelEncoder()\n",
    "\n",
    "print(\"Object columns before encoding:\")\n",
    "print(df_videoreview.select_dtypes(include=['object']).columns)\n",
    "\n",
    "for col in df_videoreview.select_dtypes(include=['object']).columns:\n",
    "    df_videoreview[col] = label_encoder.fit_transform(df_videoreview[col].astype(str))\n",
    "\n",
    "\n",
    "target_column = 'Primary_Impact_Type'  \n",
    "X = df_videoreview.drop(columns=[target_column])\n",
    "y = df_videoreview[target_column]\n",
    "\n",
    "X_train, X_test, y_train, y_test = train_test_split(X, y, test_size=0.2, random_state=42)\n",
    "\n",
    "scaler = StandardScaler()\n",
    "X_train_scaled = scaler.fit_transform(X_train)\n",
    "X_test_scaled = scaler.transform(X_test)\n",
    "\n"
   ]
  },
  {
   "cell_type": "code",
   "execution_count": 45,
   "metadata": {},
   "outputs": [
    {
     "name": "stdout",
     "output_type": "stream",
     "text": [
      "MSE Video Review: 0.7820389432809272\n",
      "R² Video Review: 0.2676004996667486\n"
     ]
    }
   ],
   "source": [
    "#Video Review linear regression with categorical and continuous features\n",
    "\n",
    "model = LinearRegression()\n",
    "model.fit(X_train_scaled, y_train)\n",
    "\n",
    "y_pred_train = model.predict(X_train_scaled)\n",
    "\n",
    "from sklearn.metrics import mean_squared_error, r2_score\n",
    "print(\"MSE Video Review:\", mean_squared_error(y_train, y_pred_train))\n",
    "print(\"R² Video Review:\", r2_score(y_train, y_pred_train))\n"
   ]
  },
  {
   "cell_type": "code",
   "execution_count": 46,
   "metadata": {},
   "outputs": [
    {
     "name": "stdout",
     "output_type": "stream",
     "text": [
      "Cross-Validated MSE Scores of Video Review with Polynomial Terms: [14.24508986  6.8337424   2.64275896  6.42421274  5.88742934]\n",
      "Average Cross-Validated MSE: 7.206646660414441\n"
     ]
    }
   ],
   "source": [
    "#Video Review linear regression with polynomial terms\n",
    "\n",
    "poly = PolynomialFeatures(degree=2, include_bias=False)\n",
    "X_train_poly = poly.fit_transform(X_train_scaled)\n",
    "\n",
    "model = LinearRegression()\n",
    "model.fit(X_train_poly, y_train)\n",
    "\n",
    "mse_scores = cross_val_score(model, X_train_poly, y_train, \n",
    "                             scoring='neg_mean_squared_error', cv=5)\n",
    "\n",
    "mse_scores = -mse_scores  \n",
    "avg_mse = np.mean(mse_scores)\n",
    "\n",
    "print(\"Cross-Validated MSE Scores of Video Review with Polynomial Terms:\", mse_scores)\n",
    "print(\"Average Cross-Validated MSE:\", avg_mse)\n"
   ]
  },
  {
   "cell_type": "code",
   "execution_count": 47,
   "metadata": {},
   "outputs": [
    {
     "name": "stdout",
     "output_type": "stream",
     "text": [
      "Cross-Validated MSE Scores (Interaction Terms) Video Revoew: [6.09283055 8.01985695 5.65582245 7.49766965 7.63417845]\n",
      "Average Cross-Validated MSE (Interaction Terms) Video Review: 6.980071608978699\n"
     ]
    }
   ],
   "source": [
    "#Video Review linear regression with interaction terms\n",
    "\n",
    "interaction = PolynomialFeatures(degree=2, include_bias=False, interaction_only=True)\n",
    "X_train_interact = interaction.fit_transform(X_train_scaled)\n",
    "\n",
    "model = LinearRegression()\n",
    "model.fit(X_train_interact, y_train)\n",
    "\n",
    "y_train_pred = model.predict(X_train_interact)\n",
    "mse_train = mean_squared_error(y_train, y_train_pred)\n",
    "r2_train = r2_score(y_train, y_train_pred)\n",
    "\n",
    "\n",
    "cv_mse_scores = -cross_val_score(model, X_train_interact, y_train,\n",
    "                                  scoring='neg_mean_squared_error', cv=5)\n",
    "\n",
    "print(\"Cross-Validated MSE Scores (Interaction Terms) Video Revoew:\", cv_mse_scores)\n",
    "print(\"Average Cross-Validated MSE (Interaction Terms) Video Review:\", np.mean(cv_mse_scores))\n"
   ]
  },
  {
   "cell_type": "code",
   "execution_count": 48,
   "metadata": {},
   "outputs": [
    {
     "name": "stdout",
     "output_type": "stream",
     "text": [
      "MSE Video Review with multicollinearity: 0.7820389432809272\n",
      "R² Video Review with multicollinearity: 0.2676004996667486\n",
      "Coefficients:\n",
      "                            Feature   Coefficient\n",
      "1                           GameKey  5.017196e-01\n",
      "0                       Season_Year -4.723777e-01\n",
      "4           Player_Activity_Derived -4.587435e-01\n",
      "8                     Friendly_Fire -4.444616e-01\n",
      "7  Primary_Partner_Activity_Derived  3.349750e-01\n",
      "3                            GSISID  2.988874e-01\n",
      "6            Primary_Partner_GSISID  1.899683e-01\n",
      "2                            PlayID -7.620664e-02\n",
      "5                  Turnover_Related  2.428613e-17\n"
     ]
    }
   ],
   "source": [
    "#Video Review linear regression with multicollinearity\n",
    "\n",
    "model = LinearRegression()\n",
    "model.fit(X_train_scaled, y_train)\n",
    "y_pred_train = model.predict(X_train_scaled)\n",
    "\n",
    "mse_train = mean_squared_error(y_train, y_pred_train)\n",
    "r2_train = r2_score(y_train, y_pred_train)\n",
    "\n",
    "print(\"MSE Video Review with multicollinearity:\", mse_train)\n",
    "print(\"R² Video Review with multicollinearity:\", r2_train)\n",
    "\n",
    "coef_df = pd.DataFrame({'Feature': X.columns, 'Coefficient': model.coef_})\n",
    "print(\"Coefficients:\")\n",
    "print(coef_df.sort_values(by='Coefficient', key=abs, ascending=False))\n"
   ]
  },
  {
   "cell_type": "code",
   "execution_count": 49,
   "metadata": {},
   "outputs": [
    {
     "name": "stdout",
     "output_type": "stream",
     "text": [
      "Requirement already satisfied: statsmodels in /usr/local/python/3.12.1/lib/python3.12/site-packages (0.14.4)\n",
      "Requirement already satisfied: numpy<3,>=1.22.3 in /home/codespace/.local/lib/python3.12/site-packages (from statsmodels) (2.2.6)\n",
      "Requirement already satisfied: scipy!=1.9.2,>=1.8 in /home/codespace/.local/lib/python3.12/site-packages (from statsmodels) (1.15.3)\n",
      "Requirement already satisfied: pandas!=2.1.0,>=1.4 in /home/codespace/.local/lib/python3.12/site-packages (from statsmodels) (2.2.3)\n",
      "Requirement already satisfied: patsy>=0.5.6 in /usr/local/python/3.12.1/lib/python3.12/site-packages (from statsmodels) (1.0.1)\n",
      "Requirement already satisfied: packaging>=21.3 in /home/codespace/.local/lib/python3.12/site-packages (from statsmodels) (25.0)\n",
      "Requirement already satisfied: python-dateutil>=2.8.2 in /home/codespace/.local/lib/python3.12/site-packages (from pandas!=2.1.0,>=1.4->statsmodels) (2.9.0.post0)\n",
      "Requirement already satisfied: pytz>=2020.1 in /home/codespace/.local/lib/python3.12/site-packages (from pandas!=2.1.0,>=1.4->statsmodels) (2025.2)\n",
      "Requirement already satisfied: tzdata>=2022.7 in /home/codespace/.local/lib/python3.12/site-packages (from pandas!=2.1.0,>=1.4->statsmodels) (2025.2)\n",
      "Requirement already satisfied: six>=1.5 in /home/codespace/.local/lib/python3.12/site-packages (from python-dateutil>=2.8.2->pandas!=2.1.0,>=1.4->statsmodels) (1.17.0)\n"
     ]
    }
   ],
   "source": [
    "!pip install statsmodels"
   ]
  },
  {
   "cell_type": "code",
   "execution_count": 50,
   "metadata": {},
   "outputs": [
    {
     "name": "stdout",
     "output_type": "stream",
     "text": [
      "Initial VIF values:\n",
      "                            feature       VIF\n",
      "0                       Season_Year  4.689585\n",
      "1                           GameKey  3.588601\n",
      "8                     Friendly_Fire  2.387368\n",
      "3                            GSISID  2.289465\n",
      "7  Primary_Partner_Activity_Derived  2.199185\n",
      "2                            PlayID  1.422762\n",
      "6            Primary_Partner_GSISID  1.415988\n",
      "4           Player_Activity_Derived  1.304255\n",
      "5                  Turnover_Related       NaN\n",
      "MSE of Video Review with VIF: 0.7820389432809272\n",
      "R² Video Review with VIF: 0.2676004996667486\n",
      "\n",
      "Coefficients (Reduced Model):\n",
      "                            Feature   Coefficient\n",
      "1                           GameKey  5.017196e-01\n",
      "0                       Season_Year -4.723777e-01\n",
      "4           Player_Activity_Derived -4.587435e-01\n",
      "8                     Friendly_Fire -4.444616e-01\n",
      "7  Primary_Partner_Activity_Derived  3.349750e-01\n",
      "3                            GSISID  2.988874e-01\n",
      "6            Primary_Partner_GSISID  1.899683e-01\n",
      "2                            PlayID -7.620664e-02\n",
      "5                  Turnover_Related  2.428613e-17\n"
     ]
    },
    {
     "name": "stderr",
     "output_type": "stream",
     "text": [
      "/home/codespace/.python/current/lib/python3.12/site-packages/statsmodels/regression/linear_model.py:1784: RuntimeWarning: invalid value encountered in scalar divide\n",
      "  return 1 - self.ssr/self.uncentered_tss\n"
     ]
    }
   ],
   "source": [
    "#Video Review linear regression with variance inflation factor and regression\n",
    "from statsmodels.stats.outliers_influence import variance_inflation_factor\n",
    "\n",
    "X_train_scaled_df = pd.DataFrame(X_train_scaled, columns=X_train.columns)\n",
    "\n",
    "def calculate_vif(X_df):\n",
    "    vif_data = pd.DataFrame()\n",
    "    vif_data[\"feature\"] = X_df.columns\n",
    "    vif_data[\"VIF\"] = [variance_inflation_factor(X_df.values, i) for i in range(X_df.shape[1])]\n",
    "    return vif_data\n",
    "\n",
    "vif_df = calculate_vif(X_train_scaled_df)\n",
    "print(\"Initial VIF values:\")\n",
    "print(vif_df.sort_values(by=\"VIF\", ascending=False))\n",
    "\n",
    "high_vif_features = vif_df[vif_df[\"VIF\"] > 10][\"feature\"].tolist()\n",
    "X_filtered = X_train_scaled_df.drop(columns=high_vif_features)\n",
    "\n",
    "\n",
    "model = LinearRegression()\n",
    "model.fit(X_filtered, y_train)\n",
    "y_pred_train = model.predict(X_filtered)\n",
    "\n",
    "mse = mean_squared_error(y_train, y_pred_train)\n",
    "r2 = r2_score(y_train, y_pred_train)\n",
    "\n",
    "print(\"MSE of Video Review with VIF:\", mse)\n",
    "print(\"R² Video Review with VIF:\", r2)\n",
    "\n",
    "coef_df = pd.DataFrame({'Feature': X_filtered.columns, 'Coefficient': model.coef_})\n",
    "print(\"\\nCoefficients (Reduced Model):\")\n",
    "print(coef_df.sort_values(by='Coefficient', key=abs, ascending=False))\n"
   ]
  },
  {
   "cell_type": "markdown",
   "metadata": {},
   "source": [
    "The next dataset, Injury Record, looks to determine the relationship between the playing surface and the injury and performance of NFL athletes. The Injury Record dataset accounts for 105 lower-limbs injuries that occurred over two seasons during the regular NFL season and provides information on the surface the game occurred on and the number of days the player missed due to injury (or how severe it was). The target in this case is surface which lists the type of surface (synethic or natural) the field was when the injury occurred."
   ]
  },
  {
   "cell_type": "code",
   "execution_count": 51,
   "metadata": {},
   "outputs": [],
   "source": [
    "df_injuryrecord = pd.read_csv(\"InjuryRecord.csv\")"
   ]
  },
  {
   "cell_type": "code",
   "execution_count": 52,
   "metadata": {},
   "outputs": [
    {
     "name": "stdout",
     "output_type": "stream",
     "text": [
      "Object columns before encoding:\n",
      "Index(['GameID', 'PlayKey', 'BodyPart', 'Surface'], dtype='object')\n"
     ]
    }
   ],
   "source": [
    "label_encoder = LabelEncoder()\n",
    "\n",
    "print(\"Object columns before encoding:\")\n",
    "print(df_injuryrecord.select_dtypes(include=['object']).columns)\n",
    "\n",
    "for col in df_injuryrecord.select_dtypes(include=['object']).columns:\n",
    "    df_injuryrecord[col] = label_encoder.fit_transform(df_injuryrecord[col].astype(str))\n",
    "\n",
    "\n",
    "target_column = 'Surface'  \n",
    "X_injury = df_injuryrecord.drop(columns=[target_column])\n",
    "y_injury = df_injuryrecord[target_column]\n",
    "\n",
    "X_train, X_test, y_train, y_test = train_test_split(X_injury, y_injury, test_size=0.2, random_state=42)\n",
    "\n",
    "scaler = StandardScaler()\n",
    "X_train_scaled = scaler.fit_transform(X_train)\n",
    "X_test_scaled = scaler.transform(X_test)"
   ]
  },
  {
   "cell_type": "code",
   "execution_count": 53,
   "metadata": {},
   "outputs": [
    {
     "name": "stdout",
     "output_type": "stream",
     "text": [
      "MSE Injury Record: 0.23365898721080608\n",
      "R² Injury Record: 0.06057104629091281\n"
     ]
    }
   ],
   "source": [
    "#Injury Record linear regression with categorical and continuous features\n",
    "\n",
    "model = LinearRegression()\n",
    "model.fit(X_train_scaled, y_train)\n",
    "\n",
    "y_pred_train = model.predict(X_train_scaled)\n",
    "\n",
    "from sklearn.metrics import mean_squared_error, r2_score\n",
    "print(\"MSE Injury Record:\", mean_squared_error(y_train, y_pred_train))\n",
    "print(\"R² Injury Record:\", r2_score(y_train, y_pred_train))\n"
   ]
  },
  {
   "cell_type": "code",
   "execution_count": 54,
   "metadata": {},
   "outputs": [
    {
     "name": "stdout",
     "output_type": "stream",
     "text": [
      "Cross-Validated MSE Scores of Video Review with Polynomial Terms: [0.47917844 0.43635777 0.68074116 1.65513593 7.93238677]\n",
      "Average Cross-Validated MSE: 2.2367600129354925\n"
     ]
    }
   ],
   "source": [
    "#Injury Record linear regression with polynomial terms\n",
    "poly = PolynomialFeatures(degree=2, include_bias=False)\n",
    "X_train_poly = poly.fit_transform(X_train_scaled)\n",
    "\n",
    "model = LinearRegression()\n",
    "model.fit(X_train_poly, y_train)\n",
    "\n",
    "mse_scores_injury= cross_val_score(model, X_train_poly, y_train, \n",
    "                             scoring='neg_mean_squared_error', cv=5)\n",
    "\n",
    "mse_scores_injury = -mse_scores_injury  \n",
    "avg_mse_injury = np.mean(mse_scores_injury)\n",
    "\n",
    "print(\"Cross-Validated MSE Scores of Video Review with Polynomial Terms:\", mse_scores_injury)\n",
    "print(\"Average Cross-Validated MSE:\", avg_mse_injury)\n"
   ]
  },
  {
   "cell_type": "code",
   "execution_count": 55,
   "metadata": {},
   "outputs": [
    {
     "name": "stdout",
     "output_type": "stream",
     "text": [
      "Cross-Validated MSE Scores (Interaction Terms) Injury Record: [0.41871417 0.41943428 0.52558763 0.52013792 0.67010958]\n",
      "Average Cross-Validated MSE (Interaction Terms) Injury Record: 0.5107967165732716\n"
     ]
    }
   ],
   "source": [
    "#Injury Record linear regression with interaction terms\n",
    "\n",
    "interaction = PolynomialFeatures(degree=2, include_bias=False, interaction_only=True)\n",
    "X_train_interact = interaction.fit_transform(X_train_scaled)\n",
    "\n",
    "model = LinearRegression()\n",
    "model.fit(X_train_interact, y_train)\n",
    "\n",
    "y_train_pred = model.predict(X_train_interact)\n",
    "mse_train = mean_squared_error(y_train, y_train_pred)\n",
    "r2_train = r2_score(y_train, y_train_pred)\n",
    "\n",
    "cv_mse_scores_injury = -cross_val_score(model, X_train_interact, y_train,\n",
    "                                  scoring='neg_mean_squared_error', cv=5)\n",
    "\n",
    "print(\"Cross-Validated MSE Scores (Interaction Terms) Injury Record:\", cv_mse_scores_injury)\n",
    "print(\"Average Cross-Validated MSE (Interaction Terms) Injury Record:\", np.mean(cv_mse_scores_injury))"
   ]
  },
  {
   "cell_type": "code",
   "execution_count": 56,
   "metadata": {},
   "outputs": [
    {
     "name": "stdout",
     "output_type": "stream",
     "text": [
      "MSE Injury Record with multicollinearity: 0.23365898721080608\n",
      "R² Injury Record with multicollinearity: 0.06057104629091281\n",
      "Coefficients:\n",
      "     Feature   Coefficient\n",
      "0  PlayerKey  2.895148e-01\n",
      "1     GameID -2.254470e-01\n",
      "6     DM_M28  1.380293e-01\n",
      "7     DM_M42 -9.425601e-02\n",
      "2    PlayKey  5.508942e-02\n",
      "3   BodyPart  2.208297e-03\n",
      "5      DM_M7 -3.225481e-04\n",
      "4      DM_M1  1.318390e-16\n"
     ]
    }
   ],
   "source": [
    "#Injury Record linear regression with multicollinearity\n",
    "\n",
    "model = LinearRegression()\n",
    "model.fit(X_train_scaled, y_train)\n",
    "\n",
    "y_pred_train = model.predict(X_train_scaled)\n",
    "\n",
    "mse_train = mean_squared_error(y_train, y_pred_train)\n",
    "r2_train = r2_score(y_train, y_pred_train)\n",
    "\n",
    "print(\"MSE Injury Record with multicollinearity:\", mse_train)\n",
    "print(\"R² Injury Record with multicollinearity:\", r2_train)\n",
    "\n",
    "X_train_scaled_df = pd.DataFrame(X_train_scaled, columns=X_train.columns)\n",
    "\n",
    "coef_df = pd.DataFrame({\n",
    "    'Feature': X_train_scaled_df.columns,\n",
    "    'Coefficient': model.coef_\n",
    "})\n",
    "\n",
    "print(\"Coefficients:\")\n",
    "print(coef_df.sort_values(by='Coefficient', key=abs, ascending=False))\n"
   ]
  },
  {
   "cell_type": "code",
   "execution_count": 57,
   "metadata": {},
   "outputs": [
    {
     "name": "stdout",
     "output_type": "stream",
     "text": [
      "Initial VIF values:\n",
      "     feature        VIF\n",
      "1     GameID  19.718543\n",
      "0  PlayerKey  17.941774\n",
      "6     DM_M28   3.368880\n",
      "7     DM_M42   3.080271\n",
      "2    PlayKey   1.553218\n",
      "5      DM_M7   1.431353\n",
      "3   BodyPart   1.063383\n",
      "4      DM_M1        NaN\n",
      "MSE of Injury Record with VIF: 0.24156478051584446\n",
      "R² Injury Record with VIF: 0.02878570295168159\n",
      "\n",
      "Coefficients (Reduced Model):\n",
      "    Feature   Coefficient\n",
      "4    DM_M28  1.147376e-01\n",
      "5    DM_M42 -7.608983e-02\n",
      "0   PlayKey  6.504045e-02\n",
      "1  BodyPart -2.066456e-03\n",
      "3     DM_M7  1.101684e-03\n",
      "2     DM_M1 -2.151057e-16\n"
     ]
    },
    {
     "name": "stderr",
     "output_type": "stream",
     "text": [
      "/home/codespace/.python/current/lib/python3.12/site-packages/statsmodels/regression/linear_model.py:1784: RuntimeWarning: invalid value encountered in scalar divide\n",
      "  return 1 - self.ssr/self.uncentered_tss\n"
     ]
    }
   ],
   "source": [
    "#Injury Record linear regression with variance inflation factor and regression\n",
    "X_train_scaled_df = pd.DataFrame(X_train_scaled, columns=X_train.columns)\n",
    "\n",
    "def calculate_vif(X_df):\n",
    "    vif_data = pd.DataFrame()\n",
    "    vif_data[\"feature\"] = X_df.columns\n",
    "    vif_data[\"VIF\"] = [variance_inflation_factor(X_df.values, i) for i in range(X_df.shape[1])]\n",
    "    return vif_data\n",
    "\n",
    "vif_df = calculate_vif(X_train_scaled_df)\n",
    "print(\"Initial VIF values:\")\n",
    "print(vif_df.sort_values(by=\"VIF\", ascending=False))\n",
    "\n",
    "high_vif_features = vif_df[vif_df[\"VIF\"] > 10][\"feature\"].tolist()\n",
    "X_filtered = X_train_scaled_df.drop(columns=high_vif_features)\n",
    "\n",
    "\n",
    "model = LinearRegression()\n",
    "model.fit(X_filtered, y_train)\n",
    "y_pred_train = model.predict(X_filtered)\n",
    "\n",
    "mse = mean_squared_error(y_train, y_pred_train)\n",
    "r2 = r2_score(y_train, y_pred_train)\n",
    "\n",
    "print(\"MSE of Injury Record with VIF:\", mse)\n",
    "print(\"R² Injury Record with VIF:\", r2)\n",
    "\n",
    "coef_df = pd.DataFrame({'Feature': X_filtered.columns, 'Coefficient': model.coef_})\n",
    "print(\"\\nCoefficients (Reduced Model):\")\n",
    "print(coef_df.sort_values(by='Coefficient', key=abs, ascending=False))"
   ]
  },
  {
   "cell_type": "markdown",
   "metadata": {},
   "source": [
    "The last dataset, Concussion, contains a list of concussion injuries that occurred in the National Football League from the year 2012 to 2014. The data includes features such as Position, Pre-Season Injury?, Week of Injury, Weeks Injured, Games Missed, Reported Injury Type, Average Playtime Before Injury, etc. The target in this case will be \"Reported Injury Type\" which will be limited to just concussions."
   ]
  },
  {
   "cell_type": "code",
   "execution_count": 58,
   "metadata": {},
   "outputs": [],
   "source": [
    "df_concussion = pd.read_csv(\"Concussion Injuries 2012-2014 (1).csv\")\n"
   ]
  },
  {
   "cell_type": "code",
   "execution_count": 59,
   "metadata": {},
   "outputs": [
    {
     "data": {
      "text/html": [
       "<div>\n",
       "<style scoped>\n",
       "    .dataframe tbody tr th:only-of-type {\n",
       "        vertical-align: middle;\n",
       "    }\n",
       "\n",
       "    .dataframe tbody tr th {\n",
       "        vertical-align: top;\n",
       "    }\n",
       "\n",
       "    .dataframe thead th {\n",
       "        text-align: right;\n",
       "    }\n",
       "</style>\n",
       "<table border=\"1\" class=\"dataframe\">\n",
       "  <thead>\n",
       "    <tr style=\"text-align: right;\">\n",
       "      <th></th>\n",
       "      <th>Team</th>\n",
       "      <th>Opposing Team</th>\n",
       "      <th>Position</th>\n",
       "      <th>Pre-Season Injury?</th>\n",
       "      <th>Week of Injury</th>\n",
       "      <th>Season</th>\n",
       "      <th>Weeks Injured</th>\n",
       "      <th>Games Missed</th>\n",
       "      <th>Reported Injury Type</th>\n",
       "      <th>Total Snaps</th>\n",
       "      <th>Play Time After Injury</th>\n",
       "      <th>Average Playtime Before Injury</th>\n",
       "    </tr>\n",
       "  </thead>\n",
       "  <tbody>\n",
       "    <tr>\n",
       "      <th>0</th>\n",
       "      <td>Washington Redskins</td>\n",
       "      <td>Tampa Bay Buccaneers</td>\n",
       "      <td>Wide Receiver</td>\n",
       "      <td>No</td>\n",
       "      <td>4</td>\n",
       "      <td>2012/2013</td>\n",
       "      <td>1</td>\n",
       "      <td>1.0</td>\n",
       "      <td>Head</td>\n",
       "      <td>0</td>\n",
       "      <td>14 downs</td>\n",
       "      <td>37.00 downs</td>\n",
       "    </tr>\n",
       "    <tr>\n",
       "      <th>1</th>\n",
       "      <td>San Diego Chargers</td>\n",
       "      <td>Tennessee Titans</td>\n",
       "      <td>Offensive Tackle</td>\n",
       "      <td>No</td>\n",
       "      <td>3</td>\n",
       "      <td>2013/2014</td>\n",
       "      <td>1</td>\n",
       "      <td>1.0</td>\n",
       "      <td>Concussion</td>\n",
       "      <td>0</td>\n",
       "      <td>78 downs</td>\n",
       "      <td>73.50 downs</td>\n",
       "    </tr>\n",
       "    <tr>\n",
       "      <th>2</th>\n",
       "      <td>Buffalo Bills</td>\n",
       "      <td>Houston Texans</td>\n",
       "      <td>Wide Receiver</td>\n",
       "      <td>No</td>\n",
       "      <td>4</td>\n",
       "      <td>2014/2015</td>\n",
       "      <td>1</td>\n",
       "      <td>1.0</td>\n",
       "      <td>Concussion</td>\n",
       "      <td>0</td>\n",
       "      <td>25 downs</td>\n",
       "      <td>17.50 downs</td>\n",
       "    </tr>\n",
       "    <tr>\n",
       "      <th>3</th>\n",
       "      <td>New England Patriots</td>\n",
       "      <td>Buffalo Bills</td>\n",
       "      <td>Center</td>\n",
       "      <td>No</td>\n",
       "      <td>6</td>\n",
       "      <td>2014/2015</td>\n",
       "      <td>1</td>\n",
       "      <td>1.0</td>\n",
       "      <td>Head</td>\n",
       "      <td>0</td>\n",
       "      <td>82 downs</td>\n",
       "      <td>41.50 downs</td>\n",
       "    </tr>\n",
       "    <tr>\n",
       "      <th>16</th>\n",
       "      <td>San Francisco 49ers</td>\n",
       "      <td>Arizona Cardinals</td>\n",
       "      <td>Guard</td>\n",
       "      <td>No</td>\n",
       "      <td>8</td>\n",
       "      <td>2012/2013</td>\n",
       "      <td>1</td>\n",
       "      <td>0.0</td>\n",
       "      <td>Concussion</td>\n",
       "      <td>1</td>\n",
       "      <td>8 downs</td>\n",
       "      <td>14.43 downs</td>\n",
       "    </tr>\n",
       "  </tbody>\n",
       "</table>\n",
       "</div>"
      ],
      "text/plain": [
       "                    Team         Opposing Team          Position  \\\n",
       "0    Washington Redskins  Tampa Bay Buccaneers     Wide Receiver   \n",
       "1     San Diego Chargers      Tennessee Titans  Offensive Tackle   \n",
       "2          Buffalo Bills        Houston Texans     Wide Receiver   \n",
       "3   New England Patriots         Buffalo Bills            Center   \n",
       "16   San Francisco 49ers     Arizona Cardinals             Guard   \n",
       "\n",
       "   Pre-Season Injury?  Week of Injury     Season  Weeks Injured  Games Missed  \\\n",
       "0                  No               4  2012/2013              1           1.0   \n",
       "1                  No               3  2013/2014              1           1.0   \n",
       "2                  No               4  2014/2015              1           1.0   \n",
       "3                  No               6  2014/2015              1           1.0   \n",
       "16                 No               8  2012/2013              1           0.0   \n",
       "\n",
       "   Reported Injury Type  Total Snaps Play Time After Injury  \\\n",
       "0                  Head            0               14 downs   \n",
       "1            Concussion            0               78 downs   \n",
       "2            Concussion            0               25 downs   \n",
       "3                  Head            0               82 downs   \n",
       "16           Concussion            1                8 downs   \n",
       "\n",
       "   Average Playtime Before Injury  \n",
       "0                     37.00 downs  \n",
       "1                     73.50 downs  \n",
       "2                     17.50 downs  \n",
       "3                     41.50 downs  \n",
       "16                    14.43 downs  "
      ]
     },
     "execution_count": 59,
     "metadata": {},
     "output_type": "execute_result"
    }
   ],
   "source": [
    "df_clean_concussion = df_concussion.drop(columns=['ID', 'Player', 'Game', 'Date', 'Winning Team?', 'Unknown Injury?'])\n",
    "df_clean_concussion = df_clean_concussion.dropna()\n",
    "\n",
    "df_clean_concussion.head()"
   ]
  },
  {
   "cell_type": "code",
   "execution_count": 60,
   "metadata": {},
   "outputs": [],
   "source": [
    "label_encoder = LabelEncoder()\n",
    "\n",
    "\n",
    "for col in df_clean_concussion.select_dtypes(include=['object']).columns:\n",
    "    df_clean_concussion[col] = label_encoder.fit_transform(df_clean_concussion[col].astype(str))\n",
    "\n",
    "target_column = 'Reported Injury Type'  \n",
    "X_concussion = df_clean_concussion.drop(columns=[target_column])\n",
    "y_concussion = df_clean_concussion[target_column]\n",
    "\n",
    "X_train, X_test, y_train, y_test = train_test_split(X_concussion, y_concussion, test_size=0.2, random_state=42)\n",
    "\n",
    "scaler = StandardScaler()\n",
    "X_train_scaled = scaler.fit_transform(X_train)\n",
    "X_test_scaled = scaler.transform(X_test)\n"
   ]
  },
  {
   "cell_type": "code",
   "execution_count": 61,
   "metadata": {},
   "outputs": [
    {
     "name": "stdout",
     "output_type": "stream",
     "text": [
      "MSE Concussion: 0.12325581378002946\n",
      "R² Concussion: 0.21830443648278552\n"
     ]
    }
   ],
   "source": [
    "#Concussion linear regression with categorical and continuous features\n",
    "model = LinearRegression()\n",
    "model.fit(X_train_scaled, y_train)\n",
    "\n",
    "y_pred_train = model.predict(X_train_scaled)\n",
    "\n",
    "from sklearn.metrics import mean_squared_error, r2_score\n",
    "print(\"MSE Concussion:\", mean_squared_error(y_train, y_pred_train))\n",
    "print(\"R² Concussion:\", r2_score(y_train, y_pred_train))"
   ]
  },
  {
   "cell_type": "code",
   "execution_count": 62,
   "metadata": {},
   "outputs": [
    {
     "name": "stdout",
     "output_type": "stream",
     "text": [
      "Cross-Validated MSE Scores of Video Review with Polynomial Terms: [0.14010582 0.11294197 0.14327489 0.16049187 0.18380589]\n",
      "Average Cross-Validated MSE: 0.14812408681002284\n"
     ]
    }
   ],
   "source": [
    "#Concussion linear regression with polynomial terms\n",
    "poly = PolynomialFeatures(degree=2, include_bias=False)\n",
    "X_train_poly = poly.fit_transform(X_train_scaled)\n",
    "X_test_poly = poly.transform(X_test_scaled)\n",
    "\n",
    "model = LinearRegression()\n",
    "model.fit(X_train_poly, y_train)\n",
    "\n",
    "mse_scores_concussion= cross_val_score(model, X_train_poly, y_train, \n",
    "                             scoring='neg_mean_squared_error', cv=5)\n",
    "\n",
    "mse_scores_concussion = -mse_scores_concussion  \n",
    "avg_mse_concussion = np.mean(mse_scores_concussion)\n",
    "\n",
    "print(\"Cross-Validated MSE Scores of Video Review with Polynomial Terms:\", mse_scores_concussion)\n",
    "print(\"Average Cross-Validated MSE:\", avg_mse_concussion)"
   ]
  },
  {
   "cell_type": "code",
   "execution_count": 63,
   "metadata": {},
   "outputs": [
    {
     "name": "stdout",
     "output_type": "stream",
     "text": [
      "Cross-Validated MSE Scores (Interaction Terms) Concussion: [0.16483957 0.11429592 0.16082085 0.17825109 0.20125835]\n",
      "Average Cross-Validated MSE (Interaction Terms) Concussion: 0.16389315859340267\n"
     ]
    }
   ],
   "source": [
    "#Concussion linear regression with interaction terms\n",
    "\n",
    "interaction = PolynomialFeatures(degree=2, include_bias=False, interaction_only=True)\n",
    "X_train_interact = interaction.fit_transform(X_train_scaled)\n",
    "\n",
    "model = LinearRegression()\n",
    "model.fit(X_train_interact, y_train)\n",
    "\n",
    "y_train_pred = model.predict(X_train_interact)\n",
    "mse_train = mean_squared_error(y_train, y_train_pred)\n",
    "r2_train = r2_score(y_train, y_train_pred)\n",
    "\n",
    "cv_mse_scores_concussion = -cross_val_score(model, X_train_interact, y_train,\n",
    "                                  scoring='neg_mean_squared_error', cv=5)\n",
    "\n",
    "print(\"Cross-Validated MSE Scores (Interaction Terms) Concussion:\", cv_mse_scores_concussion)\n",
    "print(\"Average Cross-Validated MSE (Interaction Terms) Concussion:\", np.mean(cv_mse_scores_concussion))"
   ]
  },
  {
   "cell_type": "code",
   "execution_count": 64,
   "metadata": {},
   "outputs": [
    {
     "name": "stdout",
     "output_type": "stream",
     "text": [
      "MSE Concussion with multicollinearity: 0.12325581378002946\n",
      "R² Concussion with multicollinearity: 0.21830443648278552\n",
      "Coefficients:\n",
      "                           Feature   Coefficient\n",
      "5                           Season -1.816350e-01\n",
      "0                             Team -5.559658e-02\n",
      "7                     Games Missed -4.219609e-02\n",
      "4                   Week of Injury -3.436278e-02\n",
      "9           Play Time After Injury -2.839721e-02\n",
      "1                    Opposing Team  1.970363e-02\n",
      "8                      Total Snaps  1.222037e-02\n",
      "2                         Position -3.527860e-03\n",
      "10  Average Playtime Before Injury  1.134226e-03\n",
      "3               Pre-Season Injury?  1.040834e-17\n",
      "6                    Weeks Injured -6.938894e-18\n"
     ]
    }
   ],
   "source": [
    "#Concussion linear regression with multicollinearity\n",
    "\n",
    "model = LinearRegression()\n",
    "model.fit(X_train_scaled, y_train)\n",
    "\n",
    "y_pred_train = model.predict(X_train_scaled)\n",
    "\n",
    "mse_train = mean_squared_error(y_train, y_pred_train)\n",
    "r2_train = r2_score(y_train, y_pred_train)\n",
    "\n",
    "print(\"MSE Concussion with multicollinearity:\", mse_train)\n",
    "print(\"R² Concussion with multicollinearity:\", r2_train)\n",
    "\n",
    "X_train_scaled_df = pd.DataFrame(X_train_scaled, columns=X_train.columns)\n",
    "\n",
    "coef_df = pd.DataFrame({\n",
    "    'Feature': X_train_scaled_df.columns,\n",
    "    'Coefficient': model.coef_\n",
    "})\n",
    "\n",
    "print(\"Coefficients:\")\n",
    "print(coef_df.sort_values(by='Coefficient', key=abs, ascending=False))\n"
   ]
  },
  {
   "cell_type": "code",
   "execution_count": 65,
   "metadata": {},
   "outputs": [
    {
     "name": "stdout",
     "output_type": "stream",
     "text": [
      "Initial VIF values:\n",
      "                           feature       VIF\n",
      "10  Average Playtime Before Injury  1.686492\n",
      "9           Play Time After Injury  1.502301\n",
      "8                      Total Snaps  1.312588\n",
      "7                     Games Missed  1.225132\n",
      "4                   Week of Injury  1.195167\n",
      "5                           Season  1.150839\n",
      "2                         Position  1.093167\n",
      "1                    Opposing Team  1.040517\n",
      "0                             Team  1.035365\n",
      "3               Pre-Season Injury?       NaN\n",
      "6                    Weeks Injured       NaN\n",
      "MSE of Concussion with VIF: 0.12325581378002946\n",
      "R² Concussion with VIF: 0.21830443648278552\n",
      "\n",
      "Coefficients (Reduced Model):\n",
      "                           Feature   Coefficient\n",
      "5                           Season -1.816350e-01\n",
      "0                             Team -5.559658e-02\n",
      "7                     Games Missed -4.219609e-02\n",
      "4                   Week of Injury -3.436278e-02\n",
      "9           Play Time After Injury -2.839721e-02\n",
      "1                    Opposing Team  1.970363e-02\n",
      "8                      Total Snaps  1.222037e-02\n",
      "2                         Position -3.527860e-03\n",
      "10  Average Playtime Before Injury  1.134226e-03\n",
      "3               Pre-Season Injury?  1.040834e-17\n",
      "6                    Weeks Injured -6.938894e-18\n"
     ]
    },
    {
     "name": "stderr",
     "output_type": "stream",
     "text": [
      "/home/codespace/.python/current/lib/python3.12/site-packages/statsmodels/regression/linear_model.py:1784: RuntimeWarning: invalid value encountered in scalar divide\n",
      "  return 1 - self.ssr/self.uncentered_tss\n"
     ]
    }
   ],
   "source": [
    "#Concussion linear regression with variance inflation factor and regression\n",
    "X_train_scaled_df = pd.DataFrame(X_train_scaled, columns=X_train.columns)\n",
    "\n",
    "def calculate_vif(X_df):\n",
    "    vif_data = pd.DataFrame()\n",
    "    vif_data[\"feature\"] = X_df.columns\n",
    "    vif_data[\"VIF\"] = [variance_inflation_factor(X_df.values, i) for i in range(X_df.shape[1])]\n",
    "    return vif_data\n",
    "\n",
    "vif_df = calculate_vif(X_train_scaled_df)\n",
    "print(\"Initial VIF values:\")\n",
    "print(vif_df.sort_values(by=\"VIF\", ascending=False))\n",
    "\n",
    "high_vif_features = vif_df[vif_df[\"VIF\"] > 10][\"feature\"].tolist()\n",
    "X_filtered = X_train_scaled_df.drop(columns=high_vif_features)\n",
    "\n",
    "\n",
    "model = LinearRegression()\n",
    "model.fit(X_filtered, y_train)\n",
    "y_pred_train = model.predict(X_filtered)\n",
    "\n",
    "mse = mean_squared_error(y_train, y_pred_train)\n",
    "r2 = r2_score(y_train, y_pred_train)\n",
    "\n",
    "print(\"MSE of Concussion with VIF:\", mse)\n",
    "print(\"R² Concussion with VIF:\", r2)\n",
    "\n",
    "coef_df = pd.DataFrame({'Feature': X_filtered.columns, 'Coefficient': model.coef_})\n",
    "print(\"\\nCoefficients (Reduced Model):\")\n",
    "print(coef_df.sort_values(by='Coefficient', key=abs, ascending=False))"
   ]
  }
 ],
 "metadata": {
  "kernelspec": {
   "display_name": "Python 3",
   "language": "python",
   "name": "python3"
  },
  "language_info": {
   "codemirror_mode": {
    "name": "ipython",
    "version": 3
   },
   "file_extension": ".py",
   "mimetype": "text/x-python",
   "name": "python",
   "nbconvert_exporter": "python",
   "pygments_lexer": "ipython3",
   "version": "3.12.1"
  }
 },
 "nbformat": 4,
 "nbformat_minor": 4
}
